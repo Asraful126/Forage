{
 "cells": [
  {
   "cell_type": "code",
   "execution_count": 1,
   "metadata": {
    "id": "P7DduLuwrvwZ"
   },
   "outputs": [],
   "source": [
    "import pandas as pd\n",
    "import numpy as np\n",
    "import matplotlib.pyplot as plt"
   ]
  },
  {
   "cell_type": "markdown",
   "metadata": {
    "id": "u-xeC3_B56io"
   },
   "source": [
    "## Data preparation"
   ]
  },
  {
   "cell_type": "code",
   "execution_count": 2,
   "metadata": {
    "id": "Ah7klAd9sSK7"
   },
   "outputs": [],
   "source": [
    "df = pd.read_excel(\"KPMG_VI_New_raw_data_update_final.xlsx\", sheet_name=\"NewCustomerList\")"
   ]
  },
  {
   "cell_type": "code",
   "execution_count": null,
   "metadata": {
    "colab": {
     "base_uri": "https://localhost:8080/",
     "height": 699
    },
    "executionInfo": {
     "elapsed": 1099,
     "status": "ok",
     "timestamp": 1665405170507,
     "user": {
      "displayName": "asraful islam",
      "userId": "12175748284327449638"
     },
     "user_tz": -600
    },
    "id": "deWs-tkCtOcW",
    "outputId": "e33cb0c7-542f-4bb4-b9eb-ac946cc51b82"
   },
   "outputs": [],
   "source": [
    "df.head()"
   ]
  },
  {
   "cell_type": "code",
   "execution_count": 3,
   "metadata": {
    "id": "Sno2C28PtRBv"
   },
   "outputs": [],
   "source": [
    "df.columns = df.iloc[0]"
   ]
  },
  {
   "cell_type": "code",
   "execution_count": 4,
   "metadata": {
    "id": "44KmBtzutcCI"
   },
   "outputs": [],
   "source": [
    "df = df.drop([0])"
   ]
  },
  {
   "cell_type": "code",
   "execution_count": null,
   "metadata": {
    "colab": {
     "base_uri": "https://localhost:8080/",
     "height": 696
    },
    "executionInfo": {
     "elapsed": 308,
     "status": "ok",
     "timestamp": 1665384862422,
     "user": {
      "displayName": "asraful islam",
      "userId": "12175748284327449638"
     },
     "user_tz": -600
    },
    "id": "D8hjw16Hteah",
    "outputId": "f454e41e-d6f1-4642-cf3a-2af5f9da8936"
   },
   "outputs": [],
   "source": [
    "df.set_index(pd.Index(range(0,1000,1)))"
   ]
  },
  {
   "cell_type": "code",
   "execution_count": null,
   "metadata": {
    "colab": {
     "base_uri": "https://localhost:8080/"
    },
    "executionInfo": {
     "elapsed": 283,
     "status": "ok",
     "timestamp": 1665384868785,
     "user": {
      "displayName": "asraful islam",
      "userId": "12175748284327449638"
     },
     "user_tz": -600
    },
    "id": "3Jug4536t3f0",
    "outputId": "d2412fcb-4ae2-422a-cd1b-278aaa7baa55"
   },
   "outputs": [],
   "source": [
    "df.columns"
   ]
  },
  {
   "cell_type": "code",
   "execution_count": 5,
   "metadata": {
    "id": "ww4cs_mpuN41"
   },
   "outputs": [],
   "source": [
    "df = df[['gender', 'past_3_years_bike_related_purchases', 'DOB', 'job_title', 'job_industry_category',\n",
    "         'wealth_segment', 'owns_car', 'tenure', 'address', 'postcode', 'state', 'country', 'property_valuation',\n",
    "         'Rank', 'Value']]"
   ]
  },
  {
   "cell_type": "code",
   "execution_count": null,
   "metadata": {
    "colab": {
     "base_uri": "https://localhost:8080/",
     "height": 426
    },
    "executionInfo": {
     "elapsed": 1252,
     "status": "ok",
     "timestamp": 1665384883416,
     "user": {
      "displayName": "asraful islam",
      "userId": "12175748284327449638"
     },
     "user_tz": -600
    },
    "id": "-gt28vDyuep3",
    "outputId": "e9fffd94-401e-41cb-879c-380d4b2cf913"
   },
   "outputs": [],
   "source": [
    "df.head()"
   ]
  },
  {
   "cell_type": "code",
   "execution_count": 6,
   "metadata": {
    "id": "lWHqkoSD1DWL"
   },
   "outputs": [],
   "source": [
    "df = df.set_index(pd.Index(range(0,1000,1)))"
   ]
  },
  {
   "cell_type": "code",
   "execution_count": 7,
   "metadata": {
    "colab": {
     "base_uri": "https://localhost:8080/",
     "height": 426
    },
    "executionInfo": {
     "elapsed": 610,
     "status": "ok",
     "timestamp": 1665384900300,
     "user": {
      "displayName": "asraful islam",
      "userId": "12175748284327449638"
     },
     "user_tz": -600
    },
    "id": "vjTpulzK1IDv",
    "outputId": "48e6a454-4fb8-41d3-f3d2-2c49f2156c35"
   },
   "outputs": [
    {
     "data": {
      "text/html": [
       "<div>\n",
       "<style scoped>\n",
       "    .dataframe tbody tr th:only-of-type {\n",
       "        vertical-align: middle;\n",
       "    }\n",
       "\n",
       "    .dataframe tbody tr th {\n",
       "        vertical-align: top;\n",
       "    }\n",
       "\n",
       "    .dataframe thead th {\n",
       "        text-align: right;\n",
       "    }\n",
       "</style>\n",
       "<table border=\"1\" class=\"dataframe\">\n",
       "  <thead>\n",
       "    <tr style=\"text-align: right;\">\n",
       "      <th></th>\n",
       "      <th>gender</th>\n",
       "      <th>past_3_years_bike_related_purchases</th>\n",
       "      <th>DOB</th>\n",
       "      <th>job_title</th>\n",
       "      <th>job_industry_category</th>\n",
       "      <th>wealth_segment</th>\n",
       "      <th>owns_car</th>\n",
       "      <th>tenure</th>\n",
       "      <th>address</th>\n",
       "      <th>postcode</th>\n",
       "      <th>state</th>\n",
       "      <th>country</th>\n",
       "      <th>property_valuation</th>\n",
       "      <th>Rank</th>\n",
       "      <th>Value</th>\n",
       "    </tr>\n",
       "  </thead>\n",
       "  <tbody>\n",
       "    <tr>\n",
       "      <th>0</th>\n",
       "      <td>Male</td>\n",
       "      <td>86</td>\n",
       "      <td>1957-07-12</td>\n",
       "      <td>General Manager</td>\n",
       "      <td>Manufacturing</td>\n",
       "      <td>Mass Customer</td>\n",
       "      <td>Yes</td>\n",
       "      <td>14</td>\n",
       "      <td>45 Shopko Center</td>\n",
       "      <td>4500</td>\n",
       "      <td>QLD</td>\n",
       "      <td>Australia</td>\n",
       "      <td>6</td>\n",
       "      <td>1</td>\n",
       "      <td>1.71875</td>\n",
       "    </tr>\n",
       "    <tr>\n",
       "      <th>1</th>\n",
       "      <td>Male</td>\n",
       "      <td>69</td>\n",
       "      <td>1970-03-22</td>\n",
       "      <td>Structural Engineer</td>\n",
       "      <td>Property</td>\n",
       "      <td>Mass Customer</td>\n",
       "      <td>No</td>\n",
       "      <td>16</td>\n",
       "      <td>14 Mccormick Park</td>\n",
       "      <td>2113</td>\n",
       "      <td>NSW</td>\n",
       "      <td>Australia</td>\n",
       "      <td>11</td>\n",
       "      <td>1</td>\n",
       "      <td>1.71875</td>\n",
       "    </tr>\n",
       "    <tr>\n",
       "      <th>2</th>\n",
       "      <td>Female</td>\n",
       "      <td>10</td>\n",
       "      <td>1974-08-28 00:00:00</td>\n",
       "      <td>Senior Cost Accountant</td>\n",
       "      <td>Financial Services</td>\n",
       "      <td>Affluent Customer</td>\n",
       "      <td>No</td>\n",
       "      <td>10</td>\n",
       "      <td>5 Colorado Crossing</td>\n",
       "      <td>3505</td>\n",
       "      <td>VIC</td>\n",
       "      <td>Australia</td>\n",
       "      <td>5</td>\n",
       "      <td>1</td>\n",
       "      <td>1.71875</td>\n",
       "    </tr>\n",
       "    <tr>\n",
       "      <th>3</th>\n",
       "      <td>Female</td>\n",
       "      <td>64</td>\n",
       "      <td>1979-01-28</td>\n",
       "      <td>Account Representative III</td>\n",
       "      <td>Manufacturing</td>\n",
       "      <td>Affluent Customer</td>\n",
       "      <td>Yes</td>\n",
       "      <td>5</td>\n",
       "      <td>207 Annamark Plaza</td>\n",
       "      <td>4814</td>\n",
       "      <td>QLD</td>\n",
       "      <td>Australia</td>\n",
       "      <td>1</td>\n",
       "      <td>4</td>\n",
       "      <td>1.703125</td>\n",
       "    </tr>\n",
       "    <tr>\n",
       "      <th>4</th>\n",
       "      <td>Female</td>\n",
       "      <td>34</td>\n",
       "      <td>1965-09-21</td>\n",
       "      <td>Financial Analyst</td>\n",
       "      <td>Financial Services</td>\n",
       "      <td>Affluent Customer</td>\n",
       "      <td>No</td>\n",
       "      <td>19</td>\n",
       "      <td>115 Montana Place</td>\n",
       "      <td>2093</td>\n",
       "      <td>NSW</td>\n",
       "      <td>Australia</td>\n",
       "      <td>9</td>\n",
       "      <td>4</td>\n",
       "      <td>1.703125</td>\n",
       "    </tr>\n",
       "  </tbody>\n",
       "</table>\n",
       "</div>"
      ],
      "text/plain": [
       "0  gender past_3_years_bike_related_purchases                  DOB  \\\n",
       "0    Male                                  86           1957-07-12   \n",
       "1    Male                                  69           1970-03-22   \n",
       "2  Female                                  10  1974-08-28 00:00:00   \n",
       "3  Female                                  64           1979-01-28   \n",
       "4  Female                                  34           1965-09-21   \n",
       "\n",
       "0                   job_title job_industry_category     wealth_segment  \\\n",
       "0             General Manager         Manufacturing      Mass Customer   \n",
       "1         Structural Engineer              Property      Mass Customer   \n",
       "2      Senior Cost Accountant    Financial Services  Affluent Customer   \n",
       "3  Account Representative III         Manufacturing  Affluent Customer   \n",
       "4           Financial Analyst    Financial Services  Affluent Customer   \n",
       "\n",
       "0 owns_car tenure              address postcode state    country  \\\n",
       "0      Yes     14     45 Shopko Center     4500   QLD  Australia   \n",
       "1       No     16    14 Mccormick Park     2113   NSW  Australia   \n",
       "2       No     10  5 Colorado Crossing     3505   VIC  Australia   \n",
       "3      Yes      5   207 Annamark Plaza     4814   QLD  Australia   \n",
       "4       No     19    115 Montana Place     2093   NSW  Australia   \n",
       "\n",
       "0 property_valuation Rank     Value  \n",
       "0                  6    1   1.71875  \n",
       "1                 11    1   1.71875  \n",
       "2                  5    1   1.71875  \n",
       "3                  1    4  1.703125  \n",
       "4                  9    4  1.703125  "
      ]
     },
     "execution_count": 7,
     "metadata": {},
     "output_type": "execute_result"
    }
   ],
   "source": [
    "df.head()"
   ]
  },
  {
   "cell_type": "code",
   "execution_count": 8,
   "metadata": {
    "id": "5r6EAjF32dxk"
   },
   "outputs": [],
   "source": [
    "df_backup = df.copy()"
   ]
  },
  {
   "cell_type": "code",
   "execution_count": 50,
   "metadata": {},
   "outputs": [],
   "source": [
    "df = df_backup"
   ]
  },
  {
   "cell_type": "code",
   "execution_count": 51,
   "metadata": {
    "colab": {
     "base_uri": "https://localhost:8080/"
    },
    "executionInfo": {
     "elapsed": 497,
     "status": "ok",
     "timestamp": 1665405132305,
     "user": {
      "displayName": "asraful islam",
      "userId": "12175748284327449638"
     },
     "user_tz": -600
    },
    "id": "QJp58C4X26yF",
    "outputId": "88131509-ce61-45ce-91e7-a502c8e4dd4a"
   },
   "outputs": [],
   "source": [
    "df['DOB'] = pd.to_datetime(df['DOB'])"
   ]
  },
  {
   "cell_type": "code",
   "execution_count": 52,
   "metadata": {},
   "outputs": [],
   "source": [
    "df['month'] = df['DOB'].dt.month_name().str[:3]"
   ]
  },
  {
   "cell_type": "code",
   "execution_count": 53,
   "metadata": {},
   "outputs": [],
   "source": [
    "df['year'] = df['DOB'].dt.year"
   ]
  },
  {
   "cell_type": "code",
   "execution_count": 67,
   "metadata": {},
   "outputs": [],
   "source": [
    "df['month_no'] = df['DOB'].dt.month"
   ]
  },
  {
   "cell_type": "code",
   "execution_count": 54,
   "metadata": {
    "id": "MJCOUIF0lpEW"
   },
   "outputs": [],
   "source": [
    "df['past_3_years_bike_related_purchases'] = pd.to_numeric(df['past_3_years_bike_related_purchases'],errors='coerce')\n",
    "df['tenure'] = pd.to_numeric(df['tenure'], errors='coerce')\n",
    "df['property_valuation'] = pd.to_numeric(df['property_valuation'], errors='coerce')\n",
    "df['Rank'] = pd.to_numeric(df['Rank'], errors='coerce')\n",
    "df['Value'] = pd.to_numeric(df['Value'], errors='coerce')"
   ]
  },
  {
   "cell_type": "code",
   "execution_count": null,
   "metadata": {
    "colab": {
     "base_uri": "https://localhost:8080/"
    },
    "executionInfo": {
     "elapsed": 5,
     "status": "ok",
     "timestamp": 1665384968603,
     "user": {
      "displayName": "asraful islam",
      "userId": "12175748284327449638"
     },
     "user_tz": -600
    },
    "id": "tkr3b1263AIq",
    "outputId": "f5b6ce1c-5fb8-4c46-b52f-77066299d52d"
   },
   "outputs": [],
   "source": [
    "df.dtypes"
   ]
  },
  {
   "cell_type": "code",
   "execution_count": 55,
   "metadata": {
    "id": "4rHgnYCmpfDq"
   },
   "outputs": [],
   "source": [
    "df= df.rename(columns={\"past_3_years_bike_related_purchases\":\"purchases\"})"
   ]
  },
  {
   "cell_type": "code",
   "execution_count": 56,
   "metadata": {
    "id": "JKqBVad1sHwm"
   },
   "outputs": [],
   "source": [
    "df['Age'] = 2022 - df['year']"
   ]
  },
  {
   "cell_type": "code",
   "execution_count": 69,
   "metadata": {},
   "outputs": [
    {
     "data": {
      "text/html": [
       "<div>\n",
       "<style scoped>\n",
       "    .dataframe tbody tr th:only-of-type {\n",
       "        vertical-align: middle;\n",
       "    }\n",
       "\n",
       "    .dataframe tbody tr th {\n",
       "        vertical-align: top;\n",
       "    }\n",
       "\n",
       "    .dataframe thead th {\n",
       "        text-align: right;\n",
       "    }\n",
       "</style>\n",
       "<table border=\"1\" class=\"dataframe\">\n",
       "  <thead>\n",
       "    <tr style=\"text-align: right;\">\n",
       "      <th></th>\n",
       "      <th>gender</th>\n",
       "      <th>purchases</th>\n",
       "      <th>DOB</th>\n",
       "      <th>job_title</th>\n",
       "      <th>job_industry_category</th>\n",
       "      <th>wealth_segment</th>\n",
       "      <th>owns_car</th>\n",
       "      <th>tenure</th>\n",
       "      <th>address</th>\n",
       "      <th>postcode</th>\n",
       "      <th>state</th>\n",
       "      <th>country</th>\n",
       "      <th>property_valuation</th>\n",
       "      <th>Rank</th>\n",
       "      <th>Value</th>\n",
       "      <th>month</th>\n",
       "      <th>year</th>\n",
       "      <th>Age</th>\n",
       "      <th>month_no</th>\n",
       "    </tr>\n",
       "  </thead>\n",
       "  <tbody>\n",
       "    <tr>\n",
       "      <th>0</th>\n",
       "      <td>Male</td>\n",
       "      <td>86</td>\n",
       "      <td>1957-07-12</td>\n",
       "      <td>General Manager</td>\n",
       "      <td>Manufacturing</td>\n",
       "      <td>Mass Customer</td>\n",
       "      <td>Yes</td>\n",
       "      <td>14</td>\n",
       "      <td>45 Shopko Center</td>\n",
       "      <td>4500</td>\n",
       "      <td>QLD</td>\n",
       "      <td>Australia</td>\n",
       "      <td>6</td>\n",
       "      <td>1</td>\n",
       "      <td>1.718750</td>\n",
       "      <td>Jul</td>\n",
       "      <td>1957.0</td>\n",
       "      <td>65.0</td>\n",
       "      <td>7.0</td>\n",
       "    </tr>\n",
       "    <tr>\n",
       "      <th>1</th>\n",
       "      <td>Male</td>\n",
       "      <td>69</td>\n",
       "      <td>1970-03-22</td>\n",
       "      <td>Structural Engineer</td>\n",
       "      <td>Property</td>\n",
       "      <td>Mass Customer</td>\n",
       "      <td>No</td>\n",
       "      <td>16</td>\n",
       "      <td>14 Mccormick Park</td>\n",
       "      <td>2113</td>\n",
       "      <td>NSW</td>\n",
       "      <td>Australia</td>\n",
       "      <td>11</td>\n",
       "      <td>1</td>\n",
       "      <td>1.718750</td>\n",
       "      <td>Mar</td>\n",
       "      <td>1970.0</td>\n",
       "      <td>52.0</td>\n",
       "      <td>3.0</td>\n",
       "    </tr>\n",
       "    <tr>\n",
       "      <th>2</th>\n",
       "      <td>Female</td>\n",
       "      <td>10</td>\n",
       "      <td>1974-08-28</td>\n",
       "      <td>Senior Cost Accountant</td>\n",
       "      <td>Financial Services</td>\n",
       "      <td>Affluent Customer</td>\n",
       "      <td>No</td>\n",
       "      <td>10</td>\n",
       "      <td>5 Colorado Crossing</td>\n",
       "      <td>3505</td>\n",
       "      <td>VIC</td>\n",
       "      <td>Australia</td>\n",
       "      <td>5</td>\n",
       "      <td>1</td>\n",
       "      <td>1.718750</td>\n",
       "      <td>Aug</td>\n",
       "      <td>1974.0</td>\n",
       "      <td>48.0</td>\n",
       "      <td>8.0</td>\n",
       "    </tr>\n",
       "    <tr>\n",
       "      <th>3</th>\n",
       "      <td>Female</td>\n",
       "      <td>64</td>\n",
       "      <td>1979-01-28</td>\n",
       "      <td>Account Representative III</td>\n",
       "      <td>Manufacturing</td>\n",
       "      <td>Affluent Customer</td>\n",
       "      <td>Yes</td>\n",
       "      <td>5</td>\n",
       "      <td>207 Annamark Plaza</td>\n",
       "      <td>4814</td>\n",
       "      <td>QLD</td>\n",
       "      <td>Australia</td>\n",
       "      <td>1</td>\n",
       "      <td>4</td>\n",
       "      <td>1.703125</td>\n",
       "      <td>Jan</td>\n",
       "      <td>1979.0</td>\n",
       "      <td>43.0</td>\n",
       "      <td>1.0</td>\n",
       "    </tr>\n",
       "    <tr>\n",
       "      <th>4</th>\n",
       "      <td>Female</td>\n",
       "      <td>34</td>\n",
       "      <td>1965-09-21</td>\n",
       "      <td>Financial Analyst</td>\n",
       "      <td>Financial Services</td>\n",
       "      <td>Affluent Customer</td>\n",
       "      <td>No</td>\n",
       "      <td>19</td>\n",
       "      <td>115 Montana Place</td>\n",
       "      <td>2093</td>\n",
       "      <td>NSW</td>\n",
       "      <td>Australia</td>\n",
       "      <td>9</td>\n",
       "      <td>4</td>\n",
       "      <td>1.703125</td>\n",
       "      <td>Sep</td>\n",
       "      <td>1965.0</td>\n",
       "      <td>57.0</td>\n",
       "      <td>9.0</td>\n",
       "    </tr>\n",
       "  </tbody>\n",
       "</table>\n",
       "</div>"
      ],
      "text/plain": [
       "0  gender  purchases        DOB                   job_title  \\\n",
       "0    Male         86 1957-07-12             General Manager   \n",
       "1    Male         69 1970-03-22         Structural Engineer   \n",
       "2  Female         10 1974-08-28      Senior Cost Accountant   \n",
       "3  Female         64 1979-01-28  Account Representative III   \n",
       "4  Female         34 1965-09-21           Financial Analyst   \n",
       "\n",
       "0 job_industry_category     wealth_segment owns_car  tenure  \\\n",
       "0         Manufacturing      Mass Customer      Yes      14   \n",
       "1              Property      Mass Customer       No      16   \n",
       "2    Financial Services  Affluent Customer       No      10   \n",
       "3         Manufacturing  Affluent Customer      Yes       5   \n",
       "4    Financial Services  Affluent Customer       No      19   \n",
       "\n",
       "0              address postcode state    country  property_valuation  Rank  \\\n",
       "0     45 Shopko Center     4500   QLD  Australia                   6     1   \n",
       "1    14 Mccormick Park     2113   NSW  Australia                  11     1   \n",
       "2  5 Colorado Crossing     3505   VIC  Australia                   5     1   \n",
       "3   207 Annamark Plaza     4814   QLD  Australia                   1     4   \n",
       "4    115 Montana Place     2093   NSW  Australia                   9     4   \n",
       "\n",
       "0     Value month    year   Age  month_no  \n",
       "0  1.718750   Jul  1957.0  65.0       7.0  \n",
       "1  1.718750   Mar  1970.0  52.0       3.0  \n",
       "2  1.718750   Aug  1974.0  48.0       8.0  \n",
       "3  1.703125   Jan  1979.0  43.0       1.0  \n",
       "4  1.703125   Sep  1965.0  57.0       9.0  "
      ]
     },
     "execution_count": 69,
     "metadata": {},
     "output_type": "execute_result"
    }
   ],
   "source": [
    "df.head()"
   ]
  },
  {
   "cell_type": "code",
   "execution_count": null,
   "metadata": {
    "id": "PaNS4cl9saPa"
   },
   "outputs": [],
   "source": [
    "del df['DOB']"
   ]
  },
  {
   "cell_type": "code",
   "execution_count": 68,
   "metadata": {
    "id": "RpXF7Thxj_o0"
   },
   "outputs": [],
   "source": [
    "df.to_csv(\"KPMG_month.csv\")"
   ]
  },
  {
   "cell_type": "markdown",
   "metadata": {
    "id": "DQV2dv3w66s6"
   },
   "source": [
    "## Data Exploration by statistics"
   ]
  },
  {
   "cell_type": "code",
   "execution_count": 59,
   "metadata": {
    "colab": {
     "base_uri": "https://localhost:8080/",
     "height": 426
    },
    "executionInfo": {
     "elapsed": 314,
     "status": "ok",
     "timestamp": 1665385299073,
     "user": {
      "displayName": "asraful islam",
      "userId": "12175748284327449638"
     },
     "user_tz": -600
    },
    "id": "smQtASKiqBu9",
    "outputId": "300167a2-4f21-4c52-81a8-8bc61c89117f"
   },
   "outputs": [
    {
     "data": {
      "text/html": [
       "<div>\n",
       "<style scoped>\n",
       "    .dataframe tbody tr th:only-of-type {\n",
       "        vertical-align: middle;\n",
       "    }\n",
       "\n",
       "    .dataframe tbody tr th {\n",
       "        vertical-align: top;\n",
       "    }\n",
       "\n",
       "    .dataframe thead th {\n",
       "        text-align: right;\n",
       "    }\n",
       "</style>\n",
       "<table border=\"1\" class=\"dataframe\">\n",
       "  <thead>\n",
       "    <tr style=\"text-align: right;\">\n",
       "      <th></th>\n",
       "      <th>gender</th>\n",
       "      <th>purchases</th>\n",
       "      <th>DOB</th>\n",
       "      <th>job_title</th>\n",
       "      <th>job_industry_category</th>\n",
       "      <th>wealth_segment</th>\n",
       "      <th>owns_car</th>\n",
       "      <th>tenure</th>\n",
       "      <th>address</th>\n",
       "      <th>postcode</th>\n",
       "      <th>state</th>\n",
       "      <th>country</th>\n",
       "      <th>property_valuation</th>\n",
       "      <th>Rank</th>\n",
       "      <th>Value</th>\n",
       "      <th>month</th>\n",
       "      <th>year</th>\n",
       "      <th>Age</th>\n",
       "    </tr>\n",
       "  </thead>\n",
       "  <tbody>\n",
       "    <tr>\n",
       "      <th>0</th>\n",
       "      <td>Male</td>\n",
       "      <td>86</td>\n",
       "      <td>1957-07-12</td>\n",
       "      <td>General Manager</td>\n",
       "      <td>Manufacturing</td>\n",
       "      <td>Mass Customer</td>\n",
       "      <td>Yes</td>\n",
       "      <td>14</td>\n",
       "      <td>45 Shopko Center</td>\n",
       "      <td>4500</td>\n",
       "      <td>QLD</td>\n",
       "      <td>Australia</td>\n",
       "      <td>6</td>\n",
       "      <td>1</td>\n",
       "      <td>1.718750</td>\n",
       "      <td>Jul</td>\n",
       "      <td>1957.0</td>\n",
       "      <td>65.0</td>\n",
       "    </tr>\n",
       "    <tr>\n",
       "      <th>1</th>\n",
       "      <td>Male</td>\n",
       "      <td>69</td>\n",
       "      <td>1970-03-22</td>\n",
       "      <td>Structural Engineer</td>\n",
       "      <td>Property</td>\n",
       "      <td>Mass Customer</td>\n",
       "      <td>No</td>\n",
       "      <td>16</td>\n",
       "      <td>14 Mccormick Park</td>\n",
       "      <td>2113</td>\n",
       "      <td>NSW</td>\n",
       "      <td>Australia</td>\n",
       "      <td>11</td>\n",
       "      <td>1</td>\n",
       "      <td>1.718750</td>\n",
       "      <td>Mar</td>\n",
       "      <td>1970.0</td>\n",
       "      <td>52.0</td>\n",
       "    </tr>\n",
       "    <tr>\n",
       "      <th>2</th>\n",
       "      <td>Female</td>\n",
       "      <td>10</td>\n",
       "      <td>1974-08-28</td>\n",
       "      <td>Senior Cost Accountant</td>\n",
       "      <td>Financial Services</td>\n",
       "      <td>Affluent Customer</td>\n",
       "      <td>No</td>\n",
       "      <td>10</td>\n",
       "      <td>5 Colorado Crossing</td>\n",
       "      <td>3505</td>\n",
       "      <td>VIC</td>\n",
       "      <td>Australia</td>\n",
       "      <td>5</td>\n",
       "      <td>1</td>\n",
       "      <td>1.718750</td>\n",
       "      <td>Aug</td>\n",
       "      <td>1974.0</td>\n",
       "      <td>48.0</td>\n",
       "    </tr>\n",
       "    <tr>\n",
       "      <th>3</th>\n",
       "      <td>Female</td>\n",
       "      <td>64</td>\n",
       "      <td>1979-01-28</td>\n",
       "      <td>Account Representative III</td>\n",
       "      <td>Manufacturing</td>\n",
       "      <td>Affluent Customer</td>\n",
       "      <td>Yes</td>\n",
       "      <td>5</td>\n",
       "      <td>207 Annamark Plaza</td>\n",
       "      <td>4814</td>\n",
       "      <td>QLD</td>\n",
       "      <td>Australia</td>\n",
       "      <td>1</td>\n",
       "      <td>4</td>\n",
       "      <td>1.703125</td>\n",
       "      <td>Jan</td>\n",
       "      <td>1979.0</td>\n",
       "      <td>43.0</td>\n",
       "    </tr>\n",
       "    <tr>\n",
       "      <th>4</th>\n",
       "      <td>Female</td>\n",
       "      <td>34</td>\n",
       "      <td>1965-09-21</td>\n",
       "      <td>Financial Analyst</td>\n",
       "      <td>Financial Services</td>\n",
       "      <td>Affluent Customer</td>\n",
       "      <td>No</td>\n",
       "      <td>19</td>\n",
       "      <td>115 Montana Place</td>\n",
       "      <td>2093</td>\n",
       "      <td>NSW</td>\n",
       "      <td>Australia</td>\n",
       "      <td>9</td>\n",
       "      <td>4</td>\n",
       "      <td>1.703125</td>\n",
       "      <td>Sep</td>\n",
       "      <td>1965.0</td>\n",
       "      <td>57.0</td>\n",
       "    </tr>\n",
       "  </tbody>\n",
       "</table>\n",
       "</div>"
      ],
      "text/plain": [
       "0  gender  purchases        DOB                   job_title  \\\n",
       "0    Male         86 1957-07-12             General Manager   \n",
       "1    Male         69 1970-03-22         Structural Engineer   \n",
       "2  Female         10 1974-08-28      Senior Cost Accountant   \n",
       "3  Female         64 1979-01-28  Account Representative III   \n",
       "4  Female         34 1965-09-21           Financial Analyst   \n",
       "\n",
       "0 job_industry_category     wealth_segment owns_car  tenure  \\\n",
       "0         Manufacturing      Mass Customer      Yes      14   \n",
       "1              Property      Mass Customer       No      16   \n",
       "2    Financial Services  Affluent Customer       No      10   \n",
       "3         Manufacturing  Affluent Customer      Yes       5   \n",
       "4    Financial Services  Affluent Customer       No      19   \n",
       "\n",
       "0              address postcode state    country  property_valuation  Rank  \\\n",
       "0     45 Shopko Center     4500   QLD  Australia                   6     1   \n",
       "1    14 Mccormick Park     2113   NSW  Australia                  11     1   \n",
       "2  5 Colorado Crossing     3505   VIC  Australia                   5     1   \n",
       "3   207 Annamark Plaza     4814   QLD  Australia                   1     4   \n",
       "4    115 Montana Place     2093   NSW  Australia                   9     4   \n",
       "\n",
       "0     Value month    year   Age  \n",
       "0  1.718750   Jul  1957.0  65.0  \n",
       "1  1.718750   Mar  1970.0  52.0  \n",
       "2  1.718750   Aug  1974.0  48.0  \n",
       "3  1.703125   Jan  1979.0  43.0  \n",
       "4  1.703125   Sep  1965.0  57.0  "
      ]
     },
     "execution_count": 59,
     "metadata": {},
     "output_type": "execute_result"
    }
   ],
   "source": [
    "df.head()"
   ]
  },
  {
   "cell_type": "code",
   "execution_count": 60,
   "metadata": {},
   "outputs": [
    {
     "data": {
      "text/plain": [
       "Index(['gender', 'purchases', 'DOB', 'job_title', 'job_industry_category',\n",
       "       'wealth_segment', 'owns_car', 'tenure', 'address', 'postcode', 'state',\n",
       "       'country', 'property_valuation', 'Rank', 'Value', 'month', 'year',\n",
       "       'Age'],\n",
       "      dtype='object', name=0)"
      ]
     },
     "execution_count": 60,
     "metadata": {},
     "output_type": "execute_result"
    }
   ],
   "source": [
    "df.columns"
   ]
  },
  {
   "cell_type": "code",
   "execution_count": 61,
   "metadata": {
    "colab": {
     "base_uri": "https://localhost:8080/"
    },
    "executionInfo": {
     "elapsed": 475,
     "status": "ok",
     "timestamp": 1665385315407,
     "user": {
      "displayName": "asraful islam",
      "userId": "12175748284327449638"
     },
     "user_tz": -600
    },
    "id": "fgh8GPPZo42v",
    "outputId": "4c4ad0b3-aeb3-4cb9-a3e4-9a1d57b52c49"
   },
   "outputs": [
    {
     "data": {
      "text/plain": [
       "(1000, 18)"
      ]
     },
     "execution_count": 61,
     "metadata": {},
     "output_type": "execute_result"
    }
   ],
   "source": [
    "df.shape"
   ]
  },
  {
   "cell_type": "code",
   "execution_count": 62,
   "metadata": {
    "colab": {
     "base_uri": "https://localhost:8080/"
    },
    "executionInfo": {
     "elapsed": 3,
     "status": "ok",
     "timestamp": 1665385317584,
     "user": {
      "displayName": "asraful islam",
      "userId": "12175748284327449638"
     },
     "user_tz": -600
    },
    "id": "L6fVNhiQ6BXd",
    "outputId": "06ed4287-4e54-4876-e731-e65278057ab5"
   },
   "outputs": [
    {
     "data": {
      "text/plain": [
       "0"
      ]
     },
     "execution_count": 62,
     "metadata": {},
     "output_type": "execute_result"
    }
   ],
   "source": [
    "df.duplicated().sum()"
   ]
  },
  {
   "cell_type": "code",
   "execution_count": 63,
   "metadata": {
    "colab": {
     "base_uri": "https://localhost:8080/",
     "height": 269
    },
    "executionInfo": {
     "elapsed": 5,
     "status": "ok",
     "timestamp": 1665385319877,
     "user": {
      "displayName": "asraful islam",
      "userId": "12175748284327449638"
     },
     "user_tz": -600
    },
    "id": "mRnmpV4GoSl-",
    "outputId": "08e64a99-cd13-41d5-e87f-904f373cb9fa"
   },
   "outputs": [
    {
     "data": {
      "text/html": [
       "<div>\n",
       "<style scoped>\n",
       "    .dataframe tbody tr th:only-of-type {\n",
       "        vertical-align: middle;\n",
       "    }\n",
       "\n",
       "    .dataframe tbody tr th {\n",
       "        vertical-align: top;\n",
       "    }\n",
       "\n",
       "    .dataframe thead th {\n",
       "        text-align: right;\n",
       "    }\n",
       "</style>\n",
       "<table border=\"1\" class=\"dataframe\">\n",
       "  <thead>\n",
       "    <tr style=\"text-align: right;\">\n",
       "      <th></th>\n",
       "      <th>count</th>\n",
       "      <th>mean</th>\n",
       "      <th>std</th>\n",
       "      <th>min</th>\n",
       "      <th>25%</th>\n",
       "      <th>50%</th>\n",
       "      <th>75%</th>\n",
       "      <th>max</th>\n",
       "    </tr>\n",
       "    <tr>\n",
       "      <th>0</th>\n",
       "      <th></th>\n",
       "      <th></th>\n",
       "      <th></th>\n",
       "      <th></th>\n",
       "      <th></th>\n",
       "      <th></th>\n",
       "      <th></th>\n",
       "      <th></th>\n",
       "    </tr>\n",
       "  </thead>\n",
       "  <tbody>\n",
       "    <tr>\n",
       "      <th>purchases</th>\n",
       "      <td>1000.0</td>\n",
       "      <td>49.836000</td>\n",
       "      <td>27.796686</td>\n",
       "      <td>0.00</td>\n",
       "      <td>26.750000</td>\n",
       "      <td>51.00</td>\n",
       "      <td>72.000</td>\n",
       "      <td>99.00000</td>\n",
       "    </tr>\n",
       "    <tr>\n",
       "      <th>tenure</th>\n",
       "      <td>1000.0</td>\n",
       "      <td>11.388000</td>\n",
       "      <td>5.037145</td>\n",
       "      <td>0.00</td>\n",
       "      <td>7.000000</td>\n",
       "      <td>11.00</td>\n",
       "      <td>15.000</td>\n",
       "      <td>22.00000</td>\n",
       "    </tr>\n",
       "    <tr>\n",
       "      <th>property_valuation</th>\n",
       "      <td>1000.0</td>\n",
       "      <td>7.397000</td>\n",
       "      <td>2.758804</td>\n",
       "      <td>1.00</td>\n",
       "      <td>6.000000</td>\n",
       "      <td>8.00</td>\n",
       "      <td>9.000</td>\n",
       "      <td>12.00000</td>\n",
       "    </tr>\n",
       "    <tr>\n",
       "      <th>Rank</th>\n",
       "      <td>1000.0</td>\n",
       "      <td>498.819000</td>\n",
       "      <td>288.810997</td>\n",
       "      <td>1.00</td>\n",
       "      <td>250.000000</td>\n",
       "      <td>500.00</td>\n",
       "      <td>750.250</td>\n",
       "      <td>1000.00000</td>\n",
       "    </tr>\n",
       "    <tr>\n",
       "      <th>Value</th>\n",
       "      <td>1000.0</td>\n",
       "      <td>0.881714</td>\n",
       "      <td>0.293525</td>\n",
       "      <td>0.34</td>\n",
       "      <td>0.649531</td>\n",
       "      <td>0.86</td>\n",
       "      <td>1.075</td>\n",
       "      <td>1.71875</td>\n",
       "    </tr>\n",
       "    <tr>\n",
       "      <th>year</th>\n",
       "      <td>983.0</td>\n",
       "      <td>1970.793489</td>\n",
       "      <td>17.074268</td>\n",
       "      <td>1938.00</td>\n",
       "      <td>1957.000000</td>\n",
       "      <td>1972.00</td>\n",
       "      <td>1983.000</td>\n",
       "      <td>2002.00000</td>\n",
       "    </tr>\n",
       "    <tr>\n",
       "      <th>Age</th>\n",
       "      <td>983.0</td>\n",
       "      <td>51.206511</td>\n",
       "      <td>17.074268</td>\n",
       "      <td>20.00</td>\n",
       "      <td>39.000000</td>\n",
       "      <td>50.00</td>\n",
       "      <td>65.000</td>\n",
       "      <td>84.00000</td>\n",
       "    </tr>\n",
       "  </tbody>\n",
       "</table>\n",
       "</div>"
      ],
      "text/plain": [
       "                     count         mean         std      min          25%  \\\n",
       "0                                                                           \n",
       "purchases           1000.0    49.836000   27.796686     0.00    26.750000   \n",
       "tenure              1000.0    11.388000    5.037145     0.00     7.000000   \n",
       "property_valuation  1000.0     7.397000    2.758804     1.00     6.000000   \n",
       "Rank                1000.0   498.819000  288.810997     1.00   250.000000   \n",
       "Value               1000.0     0.881714    0.293525     0.34     0.649531   \n",
       "year                 983.0  1970.793489   17.074268  1938.00  1957.000000   \n",
       "Age                  983.0    51.206511   17.074268    20.00    39.000000   \n",
       "\n",
       "                        50%       75%         max  \n",
       "0                                                  \n",
       "purchases             51.00    72.000    99.00000  \n",
       "tenure                11.00    15.000    22.00000  \n",
       "property_valuation     8.00     9.000    12.00000  \n",
       "Rank                 500.00   750.250  1000.00000  \n",
       "Value                  0.86     1.075     1.71875  \n",
       "year                1972.00  1983.000  2002.00000  \n",
       "Age                   50.00    65.000    84.00000  "
      ]
     },
     "execution_count": 63,
     "metadata": {},
     "output_type": "execute_result"
    }
   ],
   "source": [
    "df.describe().transpose()"
   ]
  },
  {
   "cell_type": "code",
   "execution_count": null,
   "metadata": {
    "colab": {
     "base_uri": "https://localhost:8080/"
    },
    "executionInfo": {
     "elapsed": 389,
     "status": "ok",
     "timestamp": 1665385410761,
     "user": {
      "displayName": "asraful islam",
      "userId": "12175748284327449638"
     },
     "user_tz": -600
    },
    "id": "P9_4YpaB6XPU",
    "outputId": "0aff6bcb-92cc-4991-d4fb-5046e3f5904a"
   },
   "outputs": [],
   "source": [
    "df.isnull().sum()"
   ]
  },
  {
   "cell_type": "code",
   "execution_count": null,
   "metadata": {
    "colab": {
     "base_uri": "https://localhost:8080/",
     "height": 269
    },
    "executionInfo": {
     "elapsed": 497,
     "status": "ok",
     "timestamp": 1665385422667,
     "user": {
      "displayName": "asraful islam",
      "userId": "12175748284327449638"
     },
     "user_tz": -600
    },
    "id": "StNeHUdBpyR0",
    "outputId": "5e0c841c-da2d-4b12-ce78-6afd0052c328"
   },
   "outputs": [],
   "source": [
    "df.corr()"
   ]
  },
  {
   "cell_type": "code",
   "execution_count": null,
   "metadata": {},
   "outputs": [],
   "source": [
    "import seaborn as sns"
   ]
  },
  {
   "cell_type": "code",
   "execution_count": null,
   "metadata": {},
   "outputs": [],
   "source": [
    "plt.figure(figsize=(12, 6))\n",
    "sns.heatmap(df.corr(), annot=True, cmap=\"YlGnBu\")\n",
    "plt.tight_layout()\n",
    "plt.xlabel('Correlation Matrix')"
   ]
  },
  {
   "cell_type": "markdown",
   "metadata": {
    "id": "4xkfOeiUhoOm"
   },
   "source": [
    "### Value vs Gender"
   ]
  },
  {
   "cell_type": "code",
   "execution_count": null,
   "metadata": {
    "colab": {
     "base_uri": "https://localhost:8080/"
    },
    "executionInfo": {
     "elapsed": 308,
     "status": "ok",
     "timestamp": 1665385475816,
     "user": {
      "displayName": "asraful islam",
      "userId": "12175748284327449638"
     },
     "user_tz": -600
    },
    "id": "OF8XgBoI9wlm",
    "outputId": "0c728ce9-7403-42b8-898c-15f88ba8efd1"
   },
   "outputs": [],
   "source": [
    "df['gender'].value_counts()"
   ]
  },
  {
   "cell_type": "code",
   "execution_count": null,
   "metadata": {
    "colab": {
     "base_uri": "https://localhost:8080/",
     "height": 513
    },
    "executionInfo": {
     "elapsed": 865,
     "status": "ok",
     "timestamp": 1665385494085,
     "user": {
      "displayName": "asraful islam",
      "userId": "12175748284327449638"
     },
     "user_tz": -600
    },
    "id": "Kul8MgN7q5Vn",
    "outputId": "2bf0fd55-83e8-4bc8-f392-69db9e8b4207"
   },
   "outputs": [],
   "source": [
    "plt.figure(figsize=(10,6))\n",
    "plt.pie(df.gender.value_counts(), labels=df.gender.value_counts().index, autopct='%1.1f%%')"
   ]
  },
  {
   "cell_type": "code",
   "execution_count": null,
   "metadata": {
    "colab": {
     "base_uri": "https://localhost:8080/",
     "height": 440
    },
    "executionInfo": {
     "elapsed": 2729,
     "status": "ok",
     "timestamp": 1665385789213,
     "user": {
      "displayName": "asraful islam",
      "userId": "12175748284327449638"
     },
     "user_tz": -600
    },
    "id": "fTtx3OMTsqVl",
    "outputId": "f1f47781-5ef1-4551-ec71-46b8ae2c0e8a"
   },
   "outputs": [],
   "source": [
    "import seaborn as sb\n",
    "plt.figure(figsize=(20,6))\n",
    "sb.barplot(x=df.Value.groupby(df.Age).sum().index, y=df.Value.groupby(df.Age).sum())\n",
    "plt.xticks(rotation=70)"
   ]
  },
  {
   "cell_type": "code",
   "execution_count": null,
   "metadata": {
    "id": "oJeASciBuWl4"
   },
   "outputs": [],
   "source": [
    "df_age_value = df[['Value']].groupby(df['Age']).sum()"
   ]
  },
  {
   "cell_type": "code",
   "execution_count": null,
   "metadata": {
    "colab": {
     "base_uri": "https://localhost:8080/",
     "height": 405
    },
    "executionInfo": {
     "elapsed": 472,
     "status": "ok",
     "timestamp": 1665385708263,
     "user": {
      "displayName": "asraful islam",
      "userId": "12175748284327449638"
     },
     "user_tz": -600
    },
    "id": "Ne5NjCE4uIpn",
    "outputId": "b9fadbca-9585-4e44-a140-fcb64be03719"
   },
   "outputs": [],
   "source": [
    "plt.figure(figsize=(14,6))\n",
    "sb.scatterplot(data=df, x='Age', y='Value')"
   ]
  },
  {
   "cell_type": "markdown",
   "metadata": {
    "id": "zeOxiXibqYk7"
   },
   "source": [
    "### Value by Purchases"
   ]
  },
  {
   "cell_type": "code",
   "execution_count": null,
   "metadata": {
    "id": "ptO0o6OdENfR"
   },
   "outputs": [],
   "source": [
    "df_purchase_value = df[['Value']].groupby(df['purchases']).sum()"
   ]
  },
  {
   "cell_type": "code",
   "execution_count": null,
   "metadata": {
    "colab": {
     "base_uri": "https://localhost:8080/",
     "height": 405
    },
    "executionInfo": {
     "elapsed": 538,
     "status": "ok",
     "timestamp": 1665133806591,
     "user": {
      "displayName": "asraful islam",
      "userId": "12175748284327449638"
     },
     "user_tz": -600
    },
    "id": "I62k6M-EqwwR",
    "outputId": "e1693882-bb2f-4d1b-e146-f8e8f1ab6bb7"
   },
   "outputs": [],
   "source": [
    "plt.figure(figsize=(14,6))\n",
    "sb.scatterplot(data=df, x='purchases', y='Value')"
   ]
  },
  {
   "cell_type": "markdown",
   "metadata": {
    "id": "-yYpdmHssapC"
   },
   "source": [
    "### Value by Rank"
   ]
  },
  {
   "cell_type": "code",
   "execution_count": null,
   "metadata": {
    "colab": {
     "base_uri": "https://localhost:8080/",
     "height": 405
    },
    "executionInfo": {
     "elapsed": 5152,
     "status": "ok",
     "timestamp": 1665133868122,
     "user": {
      "displayName": "asraful islam",
      "userId": "12175748284327449638"
     },
     "user_tz": -600
    },
    "id": "AS0vtg2AsnJV",
    "outputId": "7474aca4-db77-4bfc-91bd-0bd6f78d4798"
   },
   "outputs": [],
   "source": [
    "plt.figure(figsize=(14,6))\n",
    "sb.lineplot(data=df, x='Rank', y='Value')"
   ]
  },
  {
   "cell_type": "markdown",
   "metadata": {
    "id": "290hI4PgzLCD"
   },
   "source": [
    "### Value by Job_title"
   ]
  },
  {
   "cell_type": "code",
   "execution_count": null,
   "metadata": {
    "colab": {
     "base_uri": "https://localhost:8080/"
    },
    "executionInfo": {
     "elapsed": 415,
     "status": "ok",
     "timestamp": 1665133915577,
     "user": {
      "displayName": "asraful islam",
      "userId": "12175748284327449638"
     },
     "user_tz": -600
    },
    "id": "YOQC_ZbStwlR",
    "outputId": "23319fc8-f890-4ad5-c183-82b0ec83c229"
   },
   "outputs": [],
   "source": [
    "df.columns"
   ]
  },
  {
   "cell_type": "code",
   "execution_count": null,
   "metadata": {
    "id": "h7Q2rkgYt6Gu"
   },
   "outputs": [],
   "source": [
    "df_jobtitle_value = df[['Value']].groupby(df['job_title']).sum()\n",
    "jobtitle_value = df_jobtitle_value.sort_values('Value', ascending=False).head(15)"
   ]
  },
  {
   "cell_type": "code",
   "execution_count": null,
   "metadata": {
    "colab": {
     "base_uri": "https://localhost:8080/",
     "height": 573
    },
    "executionInfo": {
     "elapsed": 1051,
     "status": "ok",
     "timestamp": 1665135216183,
     "user": {
      "displayName": "asraful islam",
      "userId": "12175748284327449638"
     },
     "user_tz": -600
    },
    "id": "X97KdqMcvtYD",
    "outputId": "bf784c8b-e04b-4aa8-a667-54298de43931"
   },
   "outputs": [],
   "source": [
    "plt.figure(figsize=(20,6))\n",
    "sb.barplot(data=jobtitle_value, x=jobtitle_value.index, y=jobtitle_value.Value)\n",
    "plt.xticks(rotation=70)"
   ]
  },
  {
   "cell_type": "markdown",
   "metadata": {
    "id": "cdo1FZDN24FL"
   },
   "source": [
    "### Value by job_industry_category"
   ]
  },
  {
   "cell_type": "code",
   "execution_count": null,
   "metadata": {
    "colab": {
     "base_uri": "https://localhost:8080/",
     "height": 363
    },
    "executionInfo": {
     "elapsed": 642,
     "status": "ok",
     "timestamp": 1665136934883,
     "user": {
      "displayName": "asraful islam",
      "userId": "12175748284327449638"
     },
     "user_tz": -600
    },
    "id": "KqdFB7Si3xKQ",
    "outputId": "90fea678-bede-4bdb-b1a6-d9f8ae7dcae7"
   },
   "outputs": [],
   "source": [
    "df_cat = df[['Value','job_industry_category']].groupby(df['job_industry_category']).sum()\n",
    "df_cat_val = df_cat.sort_values('Value', ascending=False)\n",
    "df_cat_val"
   ]
  },
  {
   "cell_type": "code",
   "execution_count": null,
   "metadata": {
    "colab": {
     "base_uri": "https://localhost:8080/",
     "height": 513
    },
    "executionInfo": {
     "elapsed": 571,
     "status": "ok",
     "timestamp": 1665137003963,
     "user": {
      "displayName": "asraful islam",
      "userId": "12175748284327449638"
     },
     "user_tz": -600
    },
    "id": "GoY4FeyuwGpw",
    "outputId": "72853cbb-cb3e-4a48-a862-40ce133f3745"
   },
   "outputs": [],
   "source": [
    "plt.figure(figsize=(20,6))\n",
    "ax = sb.barplot(x=df_cat_val.index, y=df_cat_val.Value)\n",
    "plt.xticks(rotation=70)"
   ]
  },
  {
   "cell_type": "markdown",
   "metadata": {
    "id": "vhaspYLx2PlH"
   },
   "source": [
    "## Value by month"
   ]
  },
  {
   "cell_type": "code",
   "execution_count": 64,
   "metadata": {},
   "outputs": [
    {
     "data": {
      "text/plain": [
       "Oct    92\n",
       "Aug    90\n",
       "Mar    89\n",
       "Jan    89\n",
       "Dec    87\n",
       "Sep    85\n",
       "Jul    84\n",
       "Nov    84\n",
       "Apr    79\n",
       "May    76\n",
       "Feb    70\n",
       "Jun    58\n",
       "Name: month, dtype: int64"
      ]
     },
     "execution_count": 64,
     "metadata": {},
     "output_type": "execute_result"
    }
   ],
   "source": [
    "df['month'].value_counts()"
   ]
  },
  {
   "cell_type": "code",
   "execution_count": null,
   "metadata": {},
   "outputs": [],
   "source": []
  }
 ],
 "metadata": {
  "colab": {
   "authorship_tag": "ABX9TyP8w+llTumfHMr4l6JwoYLZ",
   "collapsed_sections": [],
   "provenance": []
  },
  "kernelspec": {
   "display_name": "Python 3 (ipykernel)",
   "language": "python",
   "name": "python3"
  },
  "language_info": {
   "codemirror_mode": {
    "name": "ipython",
    "version": 3
   },
   "file_extension": ".py",
   "mimetype": "text/x-python",
   "name": "python",
   "nbconvert_exporter": "python",
   "pygments_lexer": "ipython3",
   "version": "3.9.12"
  }
 },
 "nbformat": 4,
 "nbformat_minor": 1
}

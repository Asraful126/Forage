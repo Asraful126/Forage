{
 "cells": [
  {
   "cell_type": "code",
   "execution_count": 1,
   "metadata": {
    "id": "P7DduLuwrvwZ"
   },
   "outputs": [],
   "source": [
    "import pandas as pd\n",
    "import numpy as np\n",
    "import matplotlib.pyplot as plt"
   ]
  },
  {
   "cell_type": "markdown",
   "metadata": {
    "id": "u-xeC3_B56io"
   },
   "source": [
    "## Data preparation"
   ]
  },
  {
   "cell_type": "code",
   "execution_count": 2,
   "metadata": {
    "id": "Ah7klAd9sSK7"
   },
   "outputs": [],
   "source": [
    "df = pd.read_excel(\"KPMG_VI_New_raw_data_update_final.xlsx\", sheet_name=\"NewCustomerList\")"
   ]
  },
  {
   "cell_type": "code",
   "execution_count": 3,
   "metadata": {
    "colab": {
     "base_uri": "https://localhost:8080/",
     "height": 699
    },
    "executionInfo": {
     "elapsed": 1099,
     "status": "ok",
     "timestamp": 1665405170507,
     "user": {
      "displayName": "asraful islam",
      "userId": "12175748284327449638"
     },
     "user_tz": -600
    },
    "id": "deWs-tkCtOcW",
    "outputId": "e33cb0c7-542f-4bb4-b9eb-ac946cc51b82"
   },
   "outputs": [
    {
     "data": {
      "text/html": [
       "<div>\n",
       "<style scoped>\n",
       "    .dataframe tbody tr th:only-of-type {\n",
       "        vertical-align: middle;\n",
       "    }\n",
       "\n",
       "    .dataframe tbody tr th {\n",
       "        vertical-align: top;\n",
       "    }\n",
       "\n",
       "    .dataframe thead th {\n",
       "        text-align: right;\n",
       "    }\n",
       "</style>\n",
       "<table border=\"1\" class=\"dataframe\">\n",
       "  <thead>\n",
       "    <tr style=\"text-align: right;\">\n",
       "      <th></th>\n",
       "      <th>Note: The data and information in this document is reflective of a hypothetical situation and client. This document is to be used for KPMG Virtual Internship purposes only.</th>\n",
       "      <th>Unnamed: 1</th>\n",
       "      <th>Unnamed: 2</th>\n",
       "      <th>Unnamed: 3</th>\n",
       "      <th>Unnamed: 4</th>\n",
       "      <th>Unnamed: 5</th>\n",
       "      <th>Unnamed: 6</th>\n",
       "      <th>Unnamed: 7</th>\n",
       "      <th>Unnamed: 8</th>\n",
       "      <th>Unnamed: 9</th>\n",
       "      <th>...</th>\n",
       "      <th>Unnamed: 13</th>\n",
       "      <th>Unnamed: 14</th>\n",
       "      <th>Unnamed: 15</th>\n",
       "      <th>Unnamed: 16</th>\n",
       "      <th>Unnamed: 17</th>\n",
       "      <th>Unnamed: 18</th>\n",
       "      <th>Unnamed: 19</th>\n",
       "      <th>Unnamed: 20</th>\n",
       "      <th>Unnamed: 21</th>\n",
       "      <th>Unnamed: 22</th>\n",
       "    </tr>\n",
       "  </thead>\n",
       "  <tbody>\n",
       "    <tr>\n",
       "      <th>0</th>\n",
       "      <td>first_name</td>\n",
       "      <td>last_name</td>\n",
       "      <td>gender</td>\n",
       "      <td>past_3_years_bike_related_purchases</td>\n",
       "      <td>DOB</td>\n",
       "      <td>job_title</td>\n",
       "      <td>job_industry_category</td>\n",
       "      <td>wealth_segment</td>\n",
       "      <td>deceased_indicator</td>\n",
       "      <td>owns_car</td>\n",
       "      <td>...</td>\n",
       "      <td>state</td>\n",
       "      <td>country</td>\n",
       "      <td>property_valuation</td>\n",
       "      <td>NaN</td>\n",
       "      <td>NaN</td>\n",
       "      <td>NaN</td>\n",
       "      <td>NaN</td>\n",
       "      <td>NaN</td>\n",
       "      <td>Rank</td>\n",
       "      <td>Value</td>\n",
       "    </tr>\n",
       "    <tr>\n",
       "      <th>1</th>\n",
       "      <td>Chickie</td>\n",
       "      <td>Brister</td>\n",
       "      <td>Male</td>\n",
       "      <td>86</td>\n",
       "      <td>1957-07-12</td>\n",
       "      <td>General Manager</td>\n",
       "      <td>Manufacturing</td>\n",
       "      <td>Mass Customer</td>\n",
       "      <td>N</td>\n",
       "      <td>Yes</td>\n",
       "      <td>...</td>\n",
       "      <td>QLD</td>\n",
       "      <td>Australia</td>\n",
       "      <td>6</td>\n",
       "      <td>0.56</td>\n",
       "      <td>0.7000</td>\n",
       "      <td>0.8750</td>\n",
       "      <td>0.743750</td>\n",
       "      <td>1.0</td>\n",
       "      <td>1</td>\n",
       "      <td>1.71875</td>\n",
       "    </tr>\n",
       "    <tr>\n",
       "      <th>2</th>\n",
       "      <td>Morly</td>\n",
       "      <td>Genery</td>\n",
       "      <td>Male</td>\n",
       "      <td>69</td>\n",
       "      <td>1970-03-22</td>\n",
       "      <td>Structural Engineer</td>\n",
       "      <td>Property</td>\n",
       "      <td>Mass Customer</td>\n",
       "      <td>N</td>\n",
       "      <td>No</td>\n",
       "      <td>...</td>\n",
       "      <td>NSW</td>\n",
       "      <td>Australia</td>\n",
       "      <td>11</td>\n",
       "      <td>0.89</td>\n",
       "      <td>0.8900</td>\n",
       "      <td>1.1125</td>\n",
       "      <td>0.945625</td>\n",
       "      <td>1.0</td>\n",
       "      <td>1</td>\n",
       "      <td>1.71875</td>\n",
       "    </tr>\n",
       "    <tr>\n",
       "      <th>3</th>\n",
       "      <td>Ardelis</td>\n",
       "      <td>Forrester</td>\n",
       "      <td>Female</td>\n",
       "      <td>10</td>\n",
       "      <td>1974-08-28 00:00:00</td>\n",
       "      <td>Senior Cost Accountant</td>\n",
       "      <td>Financial Services</td>\n",
       "      <td>Affluent Customer</td>\n",
       "      <td>N</td>\n",
       "      <td>No</td>\n",
       "      <td>...</td>\n",
       "      <td>VIC</td>\n",
       "      <td>Australia</td>\n",
       "      <td>5</td>\n",
       "      <td>1.01</td>\n",
       "      <td>1.0100</td>\n",
       "      <td>1.0100</td>\n",
       "      <td>1.010000</td>\n",
       "      <td>1.0</td>\n",
       "      <td>1</td>\n",
       "      <td>1.71875</td>\n",
       "    </tr>\n",
       "    <tr>\n",
       "      <th>4</th>\n",
       "      <td>Lucine</td>\n",
       "      <td>Stutt</td>\n",
       "      <td>Female</td>\n",
       "      <td>64</td>\n",
       "      <td>1979-01-28</td>\n",
       "      <td>Account Representative III</td>\n",
       "      <td>Manufacturing</td>\n",
       "      <td>Affluent Customer</td>\n",
       "      <td>N</td>\n",
       "      <td>Yes</td>\n",
       "      <td>...</td>\n",
       "      <td>QLD</td>\n",
       "      <td>Australia</td>\n",
       "      <td>1</td>\n",
       "      <td>0.87</td>\n",
       "      <td>1.0875</td>\n",
       "      <td>1.0875</td>\n",
       "      <td>1.087500</td>\n",
       "      <td>4.0</td>\n",
       "      <td>4</td>\n",
       "      <td>1.703125</td>\n",
       "    </tr>\n",
       "  </tbody>\n",
       "</table>\n",
       "<p>5 rows × 23 columns</p>\n",
       "</div>"
      ],
      "text/plain": [
       "  Note: The data and information in this document is reflective of a hypothetical situation and client. This document is to be used for KPMG Virtual Internship purposes only.   \\\n",
       "0                                         first_name                                                                                                                              \n",
       "1                                            Chickie                                                                                                                              \n",
       "2                                              Morly                                                                                                                              \n",
       "3                                            Ardelis                                                                                                                              \n",
       "4                                             Lucine                                                                                                                              \n",
       "\n",
       "  Unnamed: 1 Unnamed: 2                           Unnamed: 3  \\\n",
       "0  last_name     gender  past_3_years_bike_related_purchases   \n",
       "1    Brister       Male                                   86   \n",
       "2     Genery       Male                                   69   \n",
       "3  Forrester     Female                                   10   \n",
       "4      Stutt     Female                                   64   \n",
       "\n",
       "            Unnamed: 4                  Unnamed: 5             Unnamed: 6  \\\n",
       "0                  DOB                   job_title  job_industry_category   \n",
       "1           1957-07-12             General Manager          Manufacturing   \n",
       "2           1970-03-22         Structural Engineer               Property   \n",
       "3  1974-08-28 00:00:00      Senior Cost Accountant     Financial Services   \n",
       "4           1979-01-28  Account Representative III          Manufacturing   \n",
       "\n",
       "          Unnamed: 7          Unnamed: 8 Unnamed: 9  ... Unnamed: 13  \\\n",
       "0     wealth_segment  deceased_indicator   owns_car  ...       state   \n",
       "1      Mass Customer                   N        Yes  ...         QLD   \n",
       "2      Mass Customer                   N         No  ...         NSW   \n",
       "3  Affluent Customer                   N         No  ...         VIC   \n",
       "4  Affluent Customer                   N        Yes  ...         QLD   \n",
       "\n",
       "  Unnamed: 14         Unnamed: 15 Unnamed: 16 Unnamed: 17 Unnamed: 18  \\\n",
       "0     country  property_valuation         NaN         NaN         NaN   \n",
       "1   Australia                   6        0.56      0.7000      0.8750   \n",
       "2   Australia                  11        0.89      0.8900      1.1125   \n",
       "3   Australia                   5        1.01      1.0100      1.0100   \n",
       "4   Australia                   1        0.87      1.0875      1.0875   \n",
       "\n",
       "   Unnamed: 19  Unnamed: 20  Unnamed: 21  Unnamed: 22  \n",
       "0          NaN          NaN         Rank        Value  \n",
       "1     0.743750          1.0            1      1.71875  \n",
       "2     0.945625          1.0            1      1.71875  \n",
       "3     1.010000          1.0            1      1.71875  \n",
       "4     1.087500          4.0            4     1.703125  \n",
       "\n",
       "[5 rows x 23 columns]"
      ]
     },
     "execution_count": 3,
     "metadata": {},
     "output_type": "execute_result"
    }
   ],
   "source": [
    "df.head()"
   ]
  },
  {
   "cell_type": "code",
   "execution_count": 4,
   "metadata": {
    "id": "Sno2C28PtRBv"
   },
   "outputs": [],
   "source": [
    "df.columns = df.iloc[0]"
   ]
  },
  {
   "cell_type": "code",
   "execution_count": 5,
   "metadata": {
    "id": "44KmBtzutcCI"
   },
   "outputs": [],
   "source": [
    "df = df.drop([0])"
   ]
  },
  {
   "cell_type": "code",
   "execution_count": 6,
   "metadata": {
    "colab": {
     "base_uri": "https://localhost:8080/",
     "height": 696
    },
    "executionInfo": {
     "elapsed": 308,
     "status": "ok",
     "timestamp": 1665384862422,
     "user": {
      "displayName": "asraful islam",
      "userId": "12175748284327449638"
     },
     "user_tz": -600
    },
    "id": "D8hjw16Hteah",
    "outputId": "f454e41e-d6f1-4642-cf3a-2af5f9da8936"
   },
   "outputs": [
    {
     "data": {
      "text/html": [
       "<div>\n",
       "<style scoped>\n",
       "    .dataframe tbody tr th:only-of-type {\n",
       "        vertical-align: middle;\n",
       "    }\n",
       "\n",
       "    .dataframe tbody tr th {\n",
       "        vertical-align: top;\n",
       "    }\n",
       "\n",
       "    .dataframe thead th {\n",
       "        text-align: right;\n",
       "    }\n",
       "</style>\n",
       "<table border=\"1\" class=\"dataframe\">\n",
       "  <thead>\n",
       "    <tr style=\"text-align: right;\">\n",
       "      <th></th>\n",
       "      <th>first_name</th>\n",
       "      <th>last_name</th>\n",
       "      <th>gender</th>\n",
       "      <th>past_3_years_bike_related_purchases</th>\n",
       "      <th>DOB</th>\n",
       "      <th>job_title</th>\n",
       "      <th>job_industry_category</th>\n",
       "      <th>wealth_segment</th>\n",
       "      <th>deceased_indicator</th>\n",
       "      <th>owns_car</th>\n",
       "      <th>...</th>\n",
       "      <th>state</th>\n",
       "      <th>country</th>\n",
       "      <th>property_valuation</th>\n",
       "      <th>NaN</th>\n",
       "      <th>NaN</th>\n",
       "      <th>NaN</th>\n",
       "      <th>NaN</th>\n",
       "      <th>NaN</th>\n",
       "      <th>Rank</th>\n",
       "      <th>Value</th>\n",
       "    </tr>\n",
       "  </thead>\n",
       "  <tbody>\n",
       "    <tr>\n",
       "      <th>0</th>\n",
       "      <td>Chickie</td>\n",
       "      <td>Brister</td>\n",
       "      <td>Male</td>\n",
       "      <td>86</td>\n",
       "      <td>1957-07-12</td>\n",
       "      <td>General Manager</td>\n",
       "      <td>Manufacturing</td>\n",
       "      <td>Mass Customer</td>\n",
       "      <td>N</td>\n",
       "      <td>Yes</td>\n",
       "      <td>...</td>\n",
       "      <td>QLD</td>\n",
       "      <td>Australia</td>\n",
       "      <td>6</td>\n",
       "      <td>0.56</td>\n",
       "      <td>0.7000</td>\n",
       "      <td>0.875000</td>\n",
       "      <td>0.743750</td>\n",
       "      <td>1.0</td>\n",
       "      <td>1</td>\n",
       "      <td>1.71875</td>\n",
       "    </tr>\n",
       "    <tr>\n",
       "      <th>1</th>\n",
       "      <td>Morly</td>\n",
       "      <td>Genery</td>\n",
       "      <td>Male</td>\n",
       "      <td>69</td>\n",
       "      <td>1970-03-22</td>\n",
       "      <td>Structural Engineer</td>\n",
       "      <td>Property</td>\n",
       "      <td>Mass Customer</td>\n",
       "      <td>N</td>\n",
       "      <td>No</td>\n",
       "      <td>...</td>\n",
       "      <td>NSW</td>\n",
       "      <td>Australia</td>\n",
       "      <td>11</td>\n",
       "      <td>0.89</td>\n",
       "      <td>0.8900</td>\n",
       "      <td>1.112500</td>\n",
       "      <td>0.945625</td>\n",
       "      <td>1.0</td>\n",
       "      <td>1</td>\n",
       "      <td>1.71875</td>\n",
       "    </tr>\n",
       "    <tr>\n",
       "      <th>2</th>\n",
       "      <td>Ardelis</td>\n",
       "      <td>Forrester</td>\n",
       "      <td>Female</td>\n",
       "      <td>10</td>\n",
       "      <td>1974-08-28 00:00:00</td>\n",
       "      <td>Senior Cost Accountant</td>\n",
       "      <td>Financial Services</td>\n",
       "      <td>Affluent Customer</td>\n",
       "      <td>N</td>\n",
       "      <td>No</td>\n",
       "      <td>...</td>\n",
       "      <td>VIC</td>\n",
       "      <td>Australia</td>\n",
       "      <td>5</td>\n",
       "      <td>1.01</td>\n",
       "      <td>1.0100</td>\n",
       "      <td>1.010000</td>\n",
       "      <td>1.010000</td>\n",
       "      <td>1.0</td>\n",
       "      <td>1</td>\n",
       "      <td>1.71875</td>\n",
       "    </tr>\n",
       "    <tr>\n",
       "      <th>3</th>\n",
       "      <td>Lucine</td>\n",
       "      <td>Stutt</td>\n",
       "      <td>Female</td>\n",
       "      <td>64</td>\n",
       "      <td>1979-01-28</td>\n",
       "      <td>Account Representative III</td>\n",
       "      <td>Manufacturing</td>\n",
       "      <td>Affluent Customer</td>\n",
       "      <td>N</td>\n",
       "      <td>Yes</td>\n",
       "      <td>...</td>\n",
       "      <td>QLD</td>\n",
       "      <td>Australia</td>\n",
       "      <td>1</td>\n",
       "      <td>0.87</td>\n",
       "      <td>1.0875</td>\n",
       "      <td>1.087500</td>\n",
       "      <td>1.087500</td>\n",
       "      <td>4.0</td>\n",
       "      <td>4</td>\n",
       "      <td>1.703125</td>\n",
       "    </tr>\n",
       "    <tr>\n",
       "      <th>4</th>\n",
       "      <td>Melinda</td>\n",
       "      <td>Hadlee</td>\n",
       "      <td>Female</td>\n",
       "      <td>34</td>\n",
       "      <td>1965-09-21</td>\n",
       "      <td>Financial Analyst</td>\n",
       "      <td>Financial Services</td>\n",
       "      <td>Affluent Customer</td>\n",
       "      <td>N</td>\n",
       "      <td>No</td>\n",
       "      <td>...</td>\n",
       "      <td>NSW</td>\n",
       "      <td>Australia</td>\n",
       "      <td>9</td>\n",
       "      <td>0.52</td>\n",
       "      <td>0.5200</td>\n",
       "      <td>0.650000</td>\n",
       "      <td>0.650000</td>\n",
       "      <td>4.0</td>\n",
       "      <td>4</td>\n",
       "      <td>1.703125</td>\n",
       "    </tr>\n",
       "    <tr>\n",
       "      <th>...</th>\n",
       "      <td>...</td>\n",
       "      <td>...</td>\n",
       "      <td>...</td>\n",
       "      <td>...</td>\n",
       "      <td>...</td>\n",
       "      <td>...</td>\n",
       "      <td>...</td>\n",
       "      <td>...</td>\n",
       "      <td>...</td>\n",
       "      <td>...</td>\n",
       "      <td>...</td>\n",
       "      <td>...</td>\n",
       "      <td>...</td>\n",
       "      <td>...</td>\n",
       "      <td>...</td>\n",
       "      <td>...</td>\n",
       "      <td>...</td>\n",
       "      <td>...</td>\n",
       "      <td>...</td>\n",
       "      <td>...</td>\n",
       "      <td>...</td>\n",
       "    </tr>\n",
       "    <tr>\n",
       "      <th>995</th>\n",
       "      <td>Ferdinand</td>\n",
       "      <td>Romanetti</td>\n",
       "      <td>Male</td>\n",
       "      <td>60</td>\n",
       "      <td>1959-10-07</td>\n",
       "      <td>Paralegal</td>\n",
       "      <td>Financial Services</td>\n",
       "      <td>Affluent Customer</td>\n",
       "      <td>N</td>\n",
       "      <td>No</td>\n",
       "      <td>...</td>\n",
       "      <td>NSW</td>\n",
       "      <td>Australia</td>\n",
       "      <td>7</td>\n",
       "      <td>0.79</td>\n",
       "      <td>0.7900</td>\n",
       "      <td>0.790000</td>\n",
       "      <td>0.790000</td>\n",
       "      <td>996.0</td>\n",
       "      <td>996</td>\n",
       "      <td>0.374</td>\n",
       "    </tr>\n",
       "    <tr>\n",
       "      <th>996</th>\n",
       "      <td>Burk</td>\n",
       "      <td>Wortley</td>\n",
       "      <td>Male</td>\n",
       "      <td>22</td>\n",
       "      <td>2001-10-17</td>\n",
       "      <td>Senior Sales Associate</td>\n",
       "      <td>Health</td>\n",
       "      <td>Mass Customer</td>\n",
       "      <td>N</td>\n",
       "      <td>No</td>\n",
       "      <td>...</td>\n",
       "      <td>NSW</td>\n",
       "      <td>Australia</td>\n",
       "      <td>10</td>\n",
       "      <td>0.76</td>\n",
       "      <td>0.7600</td>\n",
       "      <td>0.950000</td>\n",
       "      <td>0.807500</td>\n",
       "      <td>997.0</td>\n",
       "      <td>997</td>\n",
       "      <td>0.357</td>\n",
       "    </tr>\n",
       "    <tr>\n",
       "      <th>997</th>\n",
       "      <td>Melloney</td>\n",
       "      <td>Temby</td>\n",
       "      <td>Female</td>\n",
       "      <td>17</td>\n",
       "      <td>1954-10-05</td>\n",
       "      <td>Budget/Accounting Analyst IV</td>\n",
       "      <td>Financial Services</td>\n",
       "      <td>Affluent Customer</td>\n",
       "      <td>N</td>\n",
       "      <td>Yes</td>\n",
       "      <td>...</td>\n",
       "      <td>QLD</td>\n",
       "      <td>Australia</td>\n",
       "      <td>2</td>\n",
       "      <td>0.85</td>\n",
       "      <td>1.0625</td>\n",
       "      <td>1.062500</td>\n",
       "      <td>1.062500</td>\n",
       "      <td>997.0</td>\n",
       "      <td>997</td>\n",
       "      <td>0.357</td>\n",
       "    </tr>\n",
       "    <tr>\n",
       "      <th>998</th>\n",
       "      <td>Dickie</td>\n",
       "      <td>Cubbini</td>\n",
       "      <td>Male</td>\n",
       "      <td>30</td>\n",
       "      <td>1952-12-17</td>\n",
       "      <td>Financial Advisor</td>\n",
       "      <td>Financial Services</td>\n",
       "      <td>Mass Customer</td>\n",
       "      <td>N</td>\n",
       "      <td>Yes</td>\n",
       "      <td>...</td>\n",
       "      <td>QLD</td>\n",
       "      <td>Australia</td>\n",
       "      <td>2</td>\n",
       "      <td>1.09</td>\n",
       "      <td>1.3625</td>\n",
       "      <td>1.362500</td>\n",
       "      <td>1.158125</td>\n",
       "      <td>997.0</td>\n",
       "      <td>997</td>\n",
       "      <td>0.357</td>\n",
       "    </tr>\n",
       "    <tr>\n",
       "      <th>999</th>\n",
       "      <td>Sylas</td>\n",
       "      <td>Duffill</td>\n",
       "      <td>Male</td>\n",
       "      <td>56</td>\n",
       "      <td>1955-10-02</td>\n",
       "      <td>Staff Accountant IV</td>\n",
       "      <td>Property</td>\n",
       "      <td>Mass Customer</td>\n",
       "      <td>N</td>\n",
       "      <td>Yes</td>\n",
       "      <td>...</td>\n",
       "      <td>NSW</td>\n",
       "      <td>Australia</td>\n",
       "      <td>9</td>\n",
       "      <td>0.47</td>\n",
       "      <td>0.5875</td>\n",
       "      <td>0.734375</td>\n",
       "      <td>0.624219</td>\n",
       "      <td>1000.0</td>\n",
       "      <td>1000</td>\n",
       "      <td>0.34</td>\n",
       "    </tr>\n",
       "  </tbody>\n",
       "</table>\n",
       "<p>1000 rows × 23 columns</p>\n",
       "</div>"
      ],
      "text/plain": [
       "0   first_name  last_name  gender past_3_years_bike_related_purchases  \\\n",
       "0      Chickie    Brister    Male                                  86   \n",
       "1        Morly     Genery    Male                                  69   \n",
       "2      Ardelis  Forrester  Female                                  10   \n",
       "3       Lucine      Stutt  Female                                  64   \n",
       "4      Melinda     Hadlee  Female                                  34   \n",
       "..         ...        ...     ...                                 ...   \n",
       "995  Ferdinand  Romanetti    Male                                  60   \n",
       "996       Burk    Wortley    Male                                  22   \n",
       "997   Melloney      Temby  Female                                  17   \n",
       "998     Dickie    Cubbini    Male                                  30   \n",
       "999      Sylas    Duffill    Male                                  56   \n",
       "\n",
       "0                    DOB                     job_title job_industry_category  \\\n",
       "0             1957-07-12               General Manager         Manufacturing   \n",
       "1             1970-03-22           Structural Engineer              Property   \n",
       "2    1974-08-28 00:00:00        Senior Cost Accountant    Financial Services   \n",
       "3             1979-01-28    Account Representative III         Manufacturing   \n",
       "4             1965-09-21             Financial Analyst    Financial Services   \n",
       "..                   ...                           ...                   ...   \n",
       "995           1959-10-07                     Paralegal    Financial Services   \n",
       "996           2001-10-17        Senior Sales Associate                Health   \n",
       "997           1954-10-05  Budget/Accounting Analyst IV    Financial Services   \n",
       "998           1952-12-17             Financial Advisor    Financial Services   \n",
       "999           1955-10-02           Staff Accountant IV              Property   \n",
       "\n",
       "0       wealth_segment deceased_indicator owns_car  ... state    country  \\\n",
       "0        Mass Customer                  N      Yes  ...   QLD  Australia   \n",
       "1        Mass Customer                  N       No  ...   NSW  Australia   \n",
       "2    Affluent Customer                  N       No  ...   VIC  Australia   \n",
       "3    Affluent Customer                  N      Yes  ...   QLD  Australia   \n",
       "4    Affluent Customer                  N       No  ...   NSW  Australia   \n",
       "..                 ...                ...      ...  ...   ...        ...   \n",
       "995  Affluent Customer                  N       No  ...   NSW  Australia   \n",
       "996      Mass Customer                  N       No  ...   NSW  Australia   \n",
       "997  Affluent Customer                  N      Yes  ...   QLD  Australia   \n",
       "998      Mass Customer                  N      Yes  ...   QLD  Australia   \n",
       "999      Mass Customer                  N      Yes  ...   NSW  Australia   \n",
       "\n",
       "0   property_valuation   NaN     NaN       NaN       NaN     NaN  Rank  \\\n",
       "0                    6  0.56  0.7000  0.875000  0.743750     1.0     1   \n",
       "1                   11  0.89  0.8900  1.112500  0.945625     1.0     1   \n",
       "2                    5  1.01  1.0100  1.010000  1.010000     1.0     1   \n",
       "3                    1  0.87  1.0875  1.087500  1.087500     4.0     4   \n",
       "4                    9  0.52  0.5200  0.650000  0.650000     4.0     4   \n",
       "..                 ...   ...     ...       ...       ...     ...   ...   \n",
       "995                  7  0.79  0.7900  0.790000  0.790000   996.0   996   \n",
       "996                 10  0.76  0.7600  0.950000  0.807500   997.0   997   \n",
       "997                  2  0.85  1.0625  1.062500  1.062500   997.0   997   \n",
       "998                  2  1.09  1.3625  1.362500  1.158125   997.0   997   \n",
       "999                  9  0.47  0.5875  0.734375  0.624219  1000.0  1000   \n",
       "\n",
       "0       Value  \n",
       "0     1.71875  \n",
       "1     1.71875  \n",
       "2     1.71875  \n",
       "3    1.703125  \n",
       "4    1.703125  \n",
       "..        ...  \n",
       "995     0.374  \n",
       "996     0.357  \n",
       "997     0.357  \n",
       "998     0.357  \n",
       "999      0.34  \n",
       "\n",
       "[1000 rows x 23 columns]"
      ]
     },
     "execution_count": 6,
     "metadata": {},
     "output_type": "execute_result"
    }
   ],
   "source": [
    "df.set_index(pd.Index(range(0,1000,1)))"
   ]
  },
  {
   "cell_type": "code",
   "execution_count": 7,
   "metadata": {
    "colab": {
     "base_uri": "https://localhost:8080/"
    },
    "executionInfo": {
     "elapsed": 283,
     "status": "ok",
     "timestamp": 1665384868785,
     "user": {
      "displayName": "asraful islam",
      "userId": "12175748284327449638"
     },
     "user_tz": -600
    },
    "id": "3Jug4536t3f0",
    "outputId": "d2412fcb-4ae2-422a-cd1b-278aaa7baa55"
   },
   "outputs": [
    {
     "data": {
      "text/plain": [
       "Index([                         'first_name',\n",
       "                                 'last_name',\n",
       "                                    'gender',\n",
       "       'past_3_years_bike_related_purchases',\n",
       "                                       'DOB',\n",
       "                                 'job_title',\n",
       "                     'job_industry_category',\n",
       "                            'wealth_segment',\n",
       "                        'deceased_indicator',\n",
       "                                  'owns_car',\n",
       "                                    'tenure',\n",
       "                                   'address',\n",
       "                                  'postcode',\n",
       "                                     'state',\n",
       "                                   'country',\n",
       "                        'property_valuation',\n",
       "                                         nan,\n",
       "                                         nan,\n",
       "                                         nan,\n",
       "                                         nan,\n",
       "                                         nan,\n",
       "                                      'Rank',\n",
       "                                     'Value'],\n",
       "      dtype='object', name=0)"
      ]
     },
     "execution_count": 7,
     "metadata": {},
     "output_type": "execute_result"
    }
   ],
   "source": [
    "df.columns"
   ]
  },
  {
   "cell_type": "code",
   "execution_count": 8,
   "metadata": {
    "id": "ww4cs_mpuN41"
   },
   "outputs": [],
   "source": [
    "df = df[['gender', 'past_3_years_bike_related_purchases', 'DOB', 'job_title', 'job_industry_category',\n",
    "         'wealth_segment', 'owns_car', 'tenure', 'address', 'postcode', 'state', 'country', 'property_valuation',\n",
    "         'Rank', 'Value']]"
   ]
  },
  {
   "cell_type": "code",
   "execution_count": 9,
   "metadata": {
    "colab": {
     "base_uri": "https://localhost:8080/",
     "height": 426
    },
    "executionInfo": {
     "elapsed": 1252,
     "status": "ok",
     "timestamp": 1665384883416,
     "user": {
      "displayName": "asraful islam",
      "userId": "12175748284327449638"
     },
     "user_tz": -600
    },
    "id": "-gt28vDyuep3",
    "outputId": "e9fffd94-401e-41cb-879c-380d4b2cf913"
   },
   "outputs": [
    {
     "data": {
      "text/html": [
       "<div>\n",
       "<style scoped>\n",
       "    .dataframe tbody tr th:only-of-type {\n",
       "        vertical-align: middle;\n",
       "    }\n",
       "\n",
       "    .dataframe tbody tr th {\n",
       "        vertical-align: top;\n",
       "    }\n",
       "\n",
       "    .dataframe thead th {\n",
       "        text-align: right;\n",
       "    }\n",
       "</style>\n",
       "<table border=\"1\" class=\"dataframe\">\n",
       "  <thead>\n",
       "    <tr style=\"text-align: right;\">\n",
       "      <th></th>\n",
       "      <th>gender</th>\n",
       "      <th>past_3_years_bike_related_purchases</th>\n",
       "      <th>DOB</th>\n",
       "      <th>job_title</th>\n",
       "      <th>job_industry_category</th>\n",
       "      <th>wealth_segment</th>\n",
       "      <th>owns_car</th>\n",
       "      <th>tenure</th>\n",
       "      <th>address</th>\n",
       "      <th>postcode</th>\n",
       "      <th>state</th>\n",
       "      <th>country</th>\n",
       "      <th>property_valuation</th>\n",
       "      <th>Rank</th>\n",
       "      <th>Value</th>\n",
       "    </tr>\n",
       "  </thead>\n",
       "  <tbody>\n",
       "    <tr>\n",
       "      <th>1</th>\n",
       "      <td>Male</td>\n",
       "      <td>86</td>\n",
       "      <td>1957-07-12</td>\n",
       "      <td>General Manager</td>\n",
       "      <td>Manufacturing</td>\n",
       "      <td>Mass Customer</td>\n",
       "      <td>Yes</td>\n",
       "      <td>14</td>\n",
       "      <td>45 Shopko Center</td>\n",
       "      <td>4500</td>\n",
       "      <td>QLD</td>\n",
       "      <td>Australia</td>\n",
       "      <td>6</td>\n",
       "      <td>1</td>\n",
       "      <td>1.71875</td>\n",
       "    </tr>\n",
       "    <tr>\n",
       "      <th>2</th>\n",
       "      <td>Male</td>\n",
       "      <td>69</td>\n",
       "      <td>1970-03-22</td>\n",
       "      <td>Structural Engineer</td>\n",
       "      <td>Property</td>\n",
       "      <td>Mass Customer</td>\n",
       "      <td>No</td>\n",
       "      <td>16</td>\n",
       "      <td>14 Mccormick Park</td>\n",
       "      <td>2113</td>\n",
       "      <td>NSW</td>\n",
       "      <td>Australia</td>\n",
       "      <td>11</td>\n",
       "      <td>1</td>\n",
       "      <td>1.71875</td>\n",
       "    </tr>\n",
       "    <tr>\n",
       "      <th>3</th>\n",
       "      <td>Female</td>\n",
       "      <td>10</td>\n",
       "      <td>1974-08-28 00:00:00</td>\n",
       "      <td>Senior Cost Accountant</td>\n",
       "      <td>Financial Services</td>\n",
       "      <td>Affluent Customer</td>\n",
       "      <td>No</td>\n",
       "      <td>10</td>\n",
       "      <td>5 Colorado Crossing</td>\n",
       "      <td>3505</td>\n",
       "      <td>VIC</td>\n",
       "      <td>Australia</td>\n",
       "      <td>5</td>\n",
       "      <td>1</td>\n",
       "      <td>1.71875</td>\n",
       "    </tr>\n",
       "    <tr>\n",
       "      <th>4</th>\n",
       "      <td>Female</td>\n",
       "      <td>64</td>\n",
       "      <td>1979-01-28</td>\n",
       "      <td>Account Representative III</td>\n",
       "      <td>Manufacturing</td>\n",
       "      <td>Affluent Customer</td>\n",
       "      <td>Yes</td>\n",
       "      <td>5</td>\n",
       "      <td>207 Annamark Plaza</td>\n",
       "      <td>4814</td>\n",
       "      <td>QLD</td>\n",
       "      <td>Australia</td>\n",
       "      <td>1</td>\n",
       "      <td>4</td>\n",
       "      <td>1.703125</td>\n",
       "    </tr>\n",
       "    <tr>\n",
       "      <th>5</th>\n",
       "      <td>Female</td>\n",
       "      <td>34</td>\n",
       "      <td>1965-09-21</td>\n",
       "      <td>Financial Analyst</td>\n",
       "      <td>Financial Services</td>\n",
       "      <td>Affluent Customer</td>\n",
       "      <td>No</td>\n",
       "      <td>19</td>\n",
       "      <td>115 Montana Place</td>\n",
       "      <td>2093</td>\n",
       "      <td>NSW</td>\n",
       "      <td>Australia</td>\n",
       "      <td>9</td>\n",
       "      <td>4</td>\n",
       "      <td>1.703125</td>\n",
       "    </tr>\n",
       "  </tbody>\n",
       "</table>\n",
       "</div>"
      ],
      "text/plain": [
       "0  gender past_3_years_bike_related_purchases                  DOB  \\\n",
       "1    Male                                  86           1957-07-12   \n",
       "2    Male                                  69           1970-03-22   \n",
       "3  Female                                  10  1974-08-28 00:00:00   \n",
       "4  Female                                  64           1979-01-28   \n",
       "5  Female                                  34           1965-09-21   \n",
       "\n",
       "0                   job_title job_industry_category     wealth_segment  \\\n",
       "1             General Manager         Manufacturing      Mass Customer   \n",
       "2         Structural Engineer              Property      Mass Customer   \n",
       "3      Senior Cost Accountant    Financial Services  Affluent Customer   \n",
       "4  Account Representative III         Manufacturing  Affluent Customer   \n",
       "5           Financial Analyst    Financial Services  Affluent Customer   \n",
       "\n",
       "0 owns_car tenure              address postcode state    country  \\\n",
       "1      Yes     14     45 Shopko Center     4500   QLD  Australia   \n",
       "2       No     16    14 Mccormick Park     2113   NSW  Australia   \n",
       "3       No     10  5 Colorado Crossing     3505   VIC  Australia   \n",
       "4      Yes      5   207 Annamark Plaza     4814   QLD  Australia   \n",
       "5       No     19    115 Montana Place     2093   NSW  Australia   \n",
       "\n",
       "0 property_valuation Rank     Value  \n",
       "1                  6    1   1.71875  \n",
       "2                 11    1   1.71875  \n",
       "3                  5    1   1.71875  \n",
       "4                  1    4  1.703125  \n",
       "5                  9    4  1.703125  "
      ]
     },
     "execution_count": 9,
     "metadata": {},
     "output_type": "execute_result"
    }
   ],
   "source": [
    "df.head()"
   ]
  },
  {
   "cell_type": "code",
   "execution_count": 10,
   "metadata": {
    "id": "lWHqkoSD1DWL"
   },
   "outputs": [],
   "source": [
    "df = df.set_index(pd.Index(range(0,1000,1)))"
   ]
  },
  {
   "cell_type": "code",
   "execution_count": 11,
   "metadata": {
    "colab": {
     "base_uri": "https://localhost:8080/",
     "height": 426
    },
    "executionInfo": {
     "elapsed": 610,
     "status": "ok",
     "timestamp": 1665384900300,
     "user": {
      "displayName": "asraful islam",
      "userId": "12175748284327449638"
     },
     "user_tz": -600
    },
    "id": "vjTpulzK1IDv",
    "outputId": "48e6a454-4fb8-41d3-f3d2-2c49f2156c35"
   },
   "outputs": [
    {
     "data": {
      "text/html": [
       "<div>\n",
       "<style scoped>\n",
       "    .dataframe tbody tr th:only-of-type {\n",
       "        vertical-align: middle;\n",
       "    }\n",
       "\n",
       "    .dataframe tbody tr th {\n",
       "        vertical-align: top;\n",
       "    }\n",
       "\n",
       "    .dataframe thead th {\n",
       "        text-align: right;\n",
       "    }\n",
       "</style>\n",
       "<table border=\"1\" class=\"dataframe\">\n",
       "  <thead>\n",
       "    <tr style=\"text-align: right;\">\n",
       "      <th></th>\n",
       "      <th>gender</th>\n",
       "      <th>past_3_years_bike_related_purchases</th>\n",
       "      <th>DOB</th>\n",
       "      <th>job_title</th>\n",
       "      <th>job_industry_category</th>\n",
       "      <th>wealth_segment</th>\n",
       "      <th>owns_car</th>\n",
       "      <th>tenure</th>\n",
       "      <th>address</th>\n",
       "      <th>postcode</th>\n",
       "      <th>state</th>\n",
       "      <th>country</th>\n",
       "      <th>property_valuation</th>\n",
       "      <th>Rank</th>\n",
       "      <th>Value</th>\n",
       "    </tr>\n",
       "  </thead>\n",
       "  <tbody>\n",
       "    <tr>\n",
       "      <th>0</th>\n",
       "      <td>Male</td>\n",
       "      <td>86</td>\n",
       "      <td>1957-07-12</td>\n",
       "      <td>General Manager</td>\n",
       "      <td>Manufacturing</td>\n",
       "      <td>Mass Customer</td>\n",
       "      <td>Yes</td>\n",
       "      <td>14</td>\n",
       "      <td>45 Shopko Center</td>\n",
       "      <td>4500</td>\n",
       "      <td>QLD</td>\n",
       "      <td>Australia</td>\n",
       "      <td>6</td>\n",
       "      <td>1</td>\n",
       "      <td>1.71875</td>\n",
       "    </tr>\n",
       "    <tr>\n",
       "      <th>1</th>\n",
       "      <td>Male</td>\n",
       "      <td>69</td>\n",
       "      <td>1970-03-22</td>\n",
       "      <td>Structural Engineer</td>\n",
       "      <td>Property</td>\n",
       "      <td>Mass Customer</td>\n",
       "      <td>No</td>\n",
       "      <td>16</td>\n",
       "      <td>14 Mccormick Park</td>\n",
       "      <td>2113</td>\n",
       "      <td>NSW</td>\n",
       "      <td>Australia</td>\n",
       "      <td>11</td>\n",
       "      <td>1</td>\n",
       "      <td>1.71875</td>\n",
       "    </tr>\n",
       "    <tr>\n",
       "      <th>2</th>\n",
       "      <td>Female</td>\n",
       "      <td>10</td>\n",
       "      <td>1974-08-28 00:00:00</td>\n",
       "      <td>Senior Cost Accountant</td>\n",
       "      <td>Financial Services</td>\n",
       "      <td>Affluent Customer</td>\n",
       "      <td>No</td>\n",
       "      <td>10</td>\n",
       "      <td>5 Colorado Crossing</td>\n",
       "      <td>3505</td>\n",
       "      <td>VIC</td>\n",
       "      <td>Australia</td>\n",
       "      <td>5</td>\n",
       "      <td>1</td>\n",
       "      <td>1.71875</td>\n",
       "    </tr>\n",
       "    <tr>\n",
       "      <th>3</th>\n",
       "      <td>Female</td>\n",
       "      <td>64</td>\n",
       "      <td>1979-01-28</td>\n",
       "      <td>Account Representative III</td>\n",
       "      <td>Manufacturing</td>\n",
       "      <td>Affluent Customer</td>\n",
       "      <td>Yes</td>\n",
       "      <td>5</td>\n",
       "      <td>207 Annamark Plaza</td>\n",
       "      <td>4814</td>\n",
       "      <td>QLD</td>\n",
       "      <td>Australia</td>\n",
       "      <td>1</td>\n",
       "      <td>4</td>\n",
       "      <td>1.703125</td>\n",
       "    </tr>\n",
       "    <tr>\n",
       "      <th>4</th>\n",
       "      <td>Female</td>\n",
       "      <td>34</td>\n",
       "      <td>1965-09-21</td>\n",
       "      <td>Financial Analyst</td>\n",
       "      <td>Financial Services</td>\n",
       "      <td>Affluent Customer</td>\n",
       "      <td>No</td>\n",
       "      <td>19</td>\n",
       "      <td>115 Montana Place</td>\n",
       "      <td>2093</td>\n",
       "      <td>NSW</td>\n",
       "      <td>Australia</td>\n",
       "      <td>9</td>\n",
       "      <td>4</td>\n",
       "      <td>1.703125</td>\n",
       "    </tr>\n",
       "  </tbody>\n",
       "</table>\n",
       "</div>"
      ],
      "text/plain": [
       "0  gender past_3_years_bike_related_purchases                  DOB  \\\n",
       "0    Male                                  86           1957-07-12   \n",
       "1    Male                                  69           1970-03-22   \n",
       "2  Female                                  10  1974-08-28 00:00:00   \n",
       "3  Female                                  64           1979-01-28   \n",
       "4  Female                                  34           1965-09-21   \n",
       "\n",
       "0                   job_title job_industry_category     wealth_segment  \\\n",
       "0             General Manager         Manufacturing      Mass Customer   \n",
       "1         Structural Engineer              Property      Mass Customer   \n",
       "2      Senior Cost Accountant    Financial Services  Affluent Customer   \n",
       "3  Account Representative III         Manufacturing  Affluent Customer   \n",
       "4           Financial Analyst    Financial Services  Affluent Customer   \n",
       "\n",
       "0 owns_car tenure              address postcode state    country  \\\n",
       "0      Yes     14     45 Shopko Center     4500   QLD  Australia   \n",
       "1       No     16    14 Mccormick Park     2113   NSW  Australia   \n",
       "2       No     10  5 Colorado Crossing     3505   VIC  Australia   \n",
       "3      Yes      5   207 Annamark Plaza     4814   QLD  Australia   \n",
       "4       No     19    115 Montana Place     2093   NSW  Australia   \n",
       "\n",
       "0 property_valuation Rank     Value  \n",
       "0                  6    1   1.71875  \n",
       "1                 11    1   1.71875  \n",
       "2                  5    1   1.71875  \n",
       "3                  1    4  1.703125  \n",
       "4                  9    4  1.703125  "
      ]
     },
     "execution_count": 11,
     "metadata": {},
     "output_type": "execute_result"
    }
   ],
   "source": [
    "df.head()"
   ]
  },
  {
   "cell_type": "code",
   "execution_count": 12,
   "metadata": {
    "id": "5r6EAjF32dxk"
   },
   "outputs": [],
   "source": [
    "df_backup = df"
   ]
  },
  {
   "cell_type": "code",
   "execution_count": 13,
   "metadata": {
    "colab": {
     "base_uri": "https://localhost:8080/"
    },
    "executionInfo": {
     "elapsed": 497,
     "status": "ok",
     "timestamp": 1665405132305,
     "user": {
      "displayName": "asraful islam",
      "userId": "12175748284327449638"
     },
     "user_tz": -600
    },
    "id": "QJp58C4X26yF",
    "outputId": "88131509-ce61-45ce-91e7-a502c8e4dd4a"
   },
   "outputs": [
    {
     "data": {
      "text/plain": [
       "0\n",
       "gender                                 object\n",
       "past_3_years_bike_related_purchases    object\n",
       "DOB                                    object\n",
       "job_title                              object\n",
       "job_industry_category                  object\n",
       "wealth_segment                         object\n",
       "owns_car                               object\n",
       "tenure                                 object\n",
       "address                                object\n",
       "postcode                               object\n",
       "state                                  object\n",
       "country                                object\n",
       "property_valuation                     object\n",
       "Rank                                   object\n",
       "Value                                  object\n",
       "dtype: object"
      ]
     },
     "execution_count": 13,
     "metadata": {},
     "output_type": "execute_result"
    }
   ],
   "source": [
    "df.dtypes"
   ]
  },
  {
   "cell_type": "code",
   "execution_count": 14,
   "metadata": {
    "id": "PqR6ECdm6lNG"
   },
   "outputs": [],
   "source": [
    "from pandas.core.internals.construction import DatetimeIndex\n",
    "df['DOB'] = DatetimeIndex(df['DOB']).year"
   ]
  },
  {
   "cell_type": "code",
   "execution_count": 15,
   "metadata": {
    "id": "MJCOUIF0lpEW"
   },
   "outputs": [],
   "source": [
    "df['past_3_years_bike_related_purchases'] = pd.to_numeric(df['past_3_years_bike_related_purchases'],errors='coerce')\n",
    "df['tenure'] = pd.to_numeric(df['tenure'], errors='coerce')\n",
    "df['property_valuation'] = pd.to_numeric(df['property_valuation'], errors='coerce')\n",
    "df['Rank'] = pd.to_numeric(df['Rank'], errors='coerce')\n",
    "df['Value'] = pd.to_numeric(df['Value'], errors='coerce')"
   ]
  },
  {
   "cell_type": "code",
   "execution_count": 16,
   "metadata": {
    "colab": {
     "base_uri": "https://localhost:8080/"
    },
    "executionInfo": {
     "elapsed": 5,
     "status": "ok",
     "timestamp": 1665384968603,
     "user": {
      "displayName": "asraful islam",
      "userId": "12175748284327449638"
     },
     "user_tz": -600
    },
    "id": "tkr3b1263AIq",
    "outputId": "f5b6ce1c-5fb8-4c46-b52f-77066299d52d"
   },
   "outputs": [
    {
     "data": {
      "text/plain": [
       "0\n",
       "gender                                  object\n",
       "past_3_years_bike_related_purchases      int64\n",
       "DOB                                    float64\n",
       "job_title                               object\n",
       "job_industry_category                   object\n",
       "wealth_segment                          object\n",
       "owns_car                                object\n",
       "tenure                                   int64\n",
       "address                                 object\n",
       "postcode                                object\n",
       "state                                   object\n",
       "country                                 object\n",
       "property_valuation                       int64\n",
       "Rank                                     int64\n",
       "Value                                  float64\n",
       "dtype: object"
      ]
     },
     "execution_count": 16,
     "metadata": {},
     "output_type": "execute_result"
    }
   ],
   "source": [
    "df.dtypes"
   ]
  },
  {
   "cell_type": "code",
   "execution_count": 17,
   "metadata": {
    "id": "4rHgnYCmpfDq"
   },
   "outputs": [],
   "source": [
    "df= df.rename(columns={\"past_3_years_bike_related_purchases\":\"purchases\"})"
   ]
  },
  {
   "cell_type": "code",
   "execution_count": 18,
   "metadata": {
    "id": "JKqBVad1sHwm"
   },
   "outputs": [],
   "source": [
    "df['Age'] = 2022 - df['DOB']"
   ]
  },
  {
   "cell_type": "code",
   "execution_count": 19,
   "metadata": {
    "id": "PaNS4cl9saPa"
   },
   "outputs": [],
   "source": [
    "del df['DOB']"
   ]
  },
  {
   "cell_type": "code",
   "execution_count": 20,
   "metadata": {
    "id": "RpXF7Thxj_o0"
   },
   "outputs": [],
   "source": [
    "df.to_csv(\"KPMG.csv\")"
   ]
  },
  {
   "cell_type": "markdown",
   "metadata": {
    "id": "DQV2dv3w66s6"
   },
   "source": [
    "## Data Exploration by statistics"
   ]
  },
  {
   "cell_type": "code",
   "execution_count": 21,
   "metadata": {
    "colab": {
     "base_uri": "https://localhost:8080/",
     "height": 426
    },
    "executionInfo": {
     "elapsed": 314,
     "status": "ok",
     "timestamp": 1665385299073,
     "user": {
      "displayName": "asraful islam",
      "userId": "12175748284327449638"
     },
     "user_tz": -600
    },
    "id": "smQtASKiqBu9",
    "outputId": "300167a2-4f21-4c52-81a8-8bc61c89117f"
   },
   "outputs": [
    {
     "data": {
      "text/html": [
       "<div>\n",
       "<style scoped>\n",
       "    .dataframe tbody tr th:only-of-type {\n",
       "        vertical-align: middle;\n",
       "    }\n",
       "\n",
       "    .dataframe tbody tr th {\n",
       "        vertical-align: top;\n",
       "    }\n",
       "\n",
       "    .dataframe thead th {\n",
       "        text-align: right;\n",
       "    }\n",
       "</style>\n",
       "<table border=\"1\" class=\"dataframe\">\n",
       "  <thead>\n",
       "    <tr style=\"text-align: right;\">\n",
       "      <th></th>\n",
       "      <th>gender</th>\n",
       "      <th>purchases</th>\n",
       "      <th>job_title</th>\n",
       "      <th>job_industry_category</th>\n",
       "      <th>wealth_segment</th>\n",
       "      <th>owns_car</th>\n",
       "      <th>tenure</th>\n",
       "      <th>address</th>\n",
       "      <th>postcode</th>\n",
       "      <th>state</th>\n",
       "      <th>country</th>\n",
       "      <th>property_valuation</th>\n",
       "      <th>Rank</th>\n",
       "      <th>Value</th>\n",
       "      <th>Age</th>\n",
       "    </tr>\n",
       "  </thead>\n",
       "  <tbody>\n",
       "    <tr>\n",
       "      <th>0</th>\n",
       "      <td>Male</td>\n",
       "      <td>86</td>\n",
       "      <td>General Manager</td>\n",
       "      <td>Manufacturing</td>\n",
       "      <td>Mass Customer</td>\n",
       "      <td>Yes</td>\n",
       "      <td>14</td>\n",
       "      <td>45 Shopko Center</td>\n",
       "      <td>4500</td>\n",
       "      <td>QLD</td>\n",
       "      <td>Australia</td>\n",
       "      <td>6</td>\n",
       "      <td>1</td>\n",
       "      <td>1.718750</td>\n",
       "      <td>65.0</td>\n",
       "    </tr>\n",
       "    <tr>\n",
       "      <th>1</th>\n",
       "      <td>Male</td>\n",
       "      <td>69</td>\n",
       "      <td>Structural Engineer</td>\n",
       "      <td>Property</td>\n",
       "      <td>Mass Customer</td>\n",
       "      <td>No</td>\n",
       "      <td>16</td>\n",
       "      <td>14 Mccormick Park</td>\n",
       "      <td>2113</td>\n",
       "      <td>NSW</td>\n",
       "      <td>Australia</td>\n",
       "      <td>11</td>\n",
       "      <td>1</td>\n",
       "      <td>1.718750</td>\n",
       "      <td>52.0</td>\n",
       "    </tr>\n",
       "    <tr>\n",
       "      <th>2</th>\n",
       "      <td>Female</td>\n",
       "      <td>10</td>\n",
       "      <td>Senior Cost Accountant</td>\n",
       "      <td>Financial Services</td>\n",
       "      <td>Affluent Customer</td>\n",
       "      <td>No</td>\n",
       "      <td>10</td>\n",
       "      <td>5 Colorado Crossing</td>\n",
       "      <td>3505</td>\n",
       "      <td>VIC</td>\n",
       "      <td>Australia</td>\n",
       "      <td>5</td>\n",
       "      <td>1</td>\n",
       "      <td>1.718750</td>\n",
       "      <td>48.0</td>\n",
       "    </tr>\n",
       "    <tr>\n",
       "      <th>3</th>\n",
       "      <td>Female</td>\n",
       "      <td>64</td>\n",
       "      <td>Account Representative III</td>\n",
       "      <td>Manufacturing</td>\n",
       "      <td>Affluent Customer</td>\n",
       "      <td>Yes</td>\n",
       "      <td>5</td>\n",
       "      <td>207 Annamark Plaza</td>\n",
       "      <td>4814</td>\n",
       "      <td>QLD</td>\n",
       "      <td>Australia</td>\n",
       "      <td>1</td>\n",
       "      <td>4</td>\n",
       "      <td>1.703125</td>\n",
       "      <td>43.0</td>\n",
       "    </tr>\n",
       "    <tr>\n",
       "      <th>4</th>\n",
       "      <td>Female</td>\n",
       "      <td>34</td>\n",
       "      <td>Financial Analyst</td>\n",
       "      <td>Financial Services</td>\n",
       "      <td>Affluent Customer</td>\n",
       "      <td>No</td>\n",
       "      <td>19</td>\n",
       "      <td>115 Montana Place</td>\n",
       "      <td>2093</td>\n",
       "      <td>NSW</td>\n",
       "      <td>Australia</td>\n",
       "      <td>9</td>\n",
       "      <td>4</td>\n",
       "      <td>1.703125</td>\n",
       "      <td>57.0</td>\n",
       "    </tr>\n",
       "  </tbody>\n",
       "</table>\n",
       "</div>"
      ],
      "text/plain": [
       "0  gender  purchases                   job_title job_industry_category  \\\n",
       "0    Male         86             General Manager         Manufacturing   \n",
       "1    Male         69         Structural Engineer              Property   \n",
       "2  Female         10      Senior Cost Accountant    Financial Services   \n",
       "3  Female         64  Account Representative III         Manufacturing   \n",
       "4  Female         34           Financial Analyst    Financial Services   \n",
       "\n",
       "0     wealth_segment owns_car  tenure              address postcode state  \\\n",
       "0      Mass Customer      Yes      14     45 Shopko Center     4500   QLD   \n",
       "1      Mass Customer       No      16    14 Mccormick Park     2113   NSW   \n",
       "2  Affluent Customer       No      10  5 Colorado Crossing     3505   VIC   \n",
       "3  Affluent Customer      Yes       5   207 Annamark Plaza     4814   QLD   \n",
       "4  Affluent Customer       No      19    115 Montana Place     2093   NSW   \n",
       "\n",
       "0    country  property_valuation  Rank     Value   Age  \n",
       "0  Australia                   6     1  1.718750  65.0  \n",
       "1  Australia                  11     1  1.718750  52.0  \n",
       "2  Australia                   5     1  1.718750  48.0  \n",
       "3  Australia                   1     4  1.703125  43.0  \n",
       "4  Australia                   9     4  1.703125  57.0  "
      ]
     },
     "execution_count": 21,
     "metadata": {},
     "output_type": "execute_result"
    }
   ],
   "source": [
    "df.head()"
   ]
  },
  {
   "cell_type": "code",
   "execution_count": 22,
   "metadata": {
    "colab": {
     "base_uri": "https://localhost:8080/"
    },
    "executionInfo": {
     "elapsed": 475,
     "status": "ok",
     "timestamp": 1665385315407,
     "user": {
      "displayName": "asraful islam",
      "userId": "12175748284327449638"
     },
     "user_tz": -600
    },
    "id": "fgh8GPPZo42v",
    "outputId": "4c4ad0b3-aeb3-4cb9-a3e4-9a1d57b52c49"
   },
   "outputs": [
    {
     "data": {
      "text/plain": [
       "(1000, 15)"
      ]
     },
     "execution_count": 22,
     "metadata": {},
     "output_type": "execute_result"
    }
   ],
   "source": [
    "df.shape"
   ]
  },
  {
   "cell_type": "code",
   "execution_count": 23,
   "metadata": {
    "colab": {
     "base_uri": "https://localhost:8080/"
    },
    "executionInfo": {
     "elapsed": 3,
     "status": "ok",
     "timestamp": 1665385317584,
     "user": {
      "displayName": "asraful islam",
      "userId": "12175748284327449638"
     },
     "user_tz": -600
    },
    "id": "L6fVNhiQ6BXd",
    "outputId": "06ed4287-4e54-4876-e731-e65278057ab5"
   },
   "outputs": [
    {
     "data": {
      "text/plain": [
       "0"
      ]
     },
     "execution_count": 23,
     "metadata": {},
     "output_type": "execute_result"
    }
   ],
   "source": [
    "df.duplicated().sum()"
   ]
  },
  {
   "cell_type": "code",
   "execution_count": 24,
   "metadata": {
    "colab": {
     "base_uri": "https://localhost:8080/",
     "height": 269
    },
    "executionInfo": {
     "elapsed": 5,
     "status": "ok",
     "timestamp": 1665385319877,
     "user": {
      "displayName": "asraful islam",
      "userId": "12175748284327449638"
     },
     "user_tz": -600
    },
    "id": "mRnmpV4GoSl-",
    "outputId": "08e64a99-cd13-41d5-e87f-904f373cb9fa"
   },
   "outputs": [
    {
     "data": {
      "text/html": [
       "<div>\n",
       "<style scoped>\n",
       "    .dataframe tbody tr th:only-of-type {\n",
       "        vertical-align: middle;\n",
       "    }\n",
       "\n",
       "    .dataframe tbody tr th {\n",
       "        vertical-align: top;\n",
       "    }\n",
       "\n",
       "    .dataframe thead th {\n",
       "        text-align: right;\n",
       "    }\n",
       "</style>\n",
       "<table border=\"1\" class=\"dataframe\">\n",
       "  <thead>\n",
       "    <tr style=\"text-align: right;\">\n",
       "      <th></th>\n",
       "      <th>count</th>\n",
       "      <th>mean</th>\n",
       "      <th>std</th>\n",
       "      <th>min</th>\n",
       "      <th>25%</th>\n",
       "      <th>50%</th>\n",
       "      <th>75%</th>\n",
       "      <th>max</th>\n",
       "    </tr>\n",
       "    <tr>\n",
       "      <th>0</th>\n",
       "      <th></th>\n",
       "      <th></th>\n",
       "      <th></th>\n",
       "      <th></th>\n",
       "      <th></th>\n",
       "      <th></th>\n",
       "      <th></th>\n",
       "      <th></th>\n",
       "    </tr>\n",
       "  </thead>\n",
       "  <tbody>\n",
       "    <tr>\n",
       "      <th>purchases</th>\n",
       "      <td>1000.0</td>\n",
       "      <td>49.836000</td>\n",
       "      <td>27.796686</td>\n",
       "      <td>0.00</td>\n",
       "      <td>26.750000</td>\n",
       "      <td>51.00</td>\n",
       "      <td>72.000</td>\n",
       "      <td>99.00000</td>\n",
       "    </tr>\n",
       "    <tr>\n",
       "      <th>tenure</th>\n",
       "      <td>1000.0</td>\n",
       "      <td>11.388000</td>\n",
       "      <td>5.037145</td>\n",
       "      <td>0.00</td>\n",
       "      <td>7.000000</td>\n",
       "      <td>11.00</td>\n",
       "      <td>15.000</td>\n",
       "      <td>22.00000</td>\n",
       "    </tr>\n",
       "    <tr>\n",
       "      <th>property_valuation</th>\n",
       "      <td>1000.0</td>\n",
       "      <td>7.397000</td>\n",
       "      <td>2.758804</td>\n",
       "      <td>1.00</td>\n",
       "      <td>6.000000</td>\n",
       "      <td>8.00</td>\n",
       "      <td>9.000</td>\n",
       "      <td>12.00000</td>\n",
       "    </tr>\n",
       "    <tr>\n",
       "      <th>Rank</th>\n",
       "      <td>1000.0</td>\n",
       "      <td>498.819000</td>\n",
       "      <td>288.810997</td>\n",
       "      <td>1.00</td>\n",
       "      <td>250.000000</td>\n",
       "      <td>500.00</td>\n",
       "      <td>750.250</td>\n",
       "      <td>1000.00000</td>\n",
       "    </tr>\n",
       "    <tr>\n",
       "      <th>Value</th>\n",
       "      <td>1000.0</td>\n",
       "      <td>0.881714</td>\n",
       "      <td>0.293525</td>\n",
       "      <td>0.34</td>\n",
       "      <td>0.649531</td>\n",
       "      <td>0.86</td>\n",
       "      <td>1.075</td>\n",
       "      <td>1.71875</td>\n",
       "    </tr>\n",
       "    <tr>\n",
       "      <th>Age</th>\n",
       "      <td>983.0</td>\n",
       "      <td>51.206511</td>\n",
       "      <td>17.074268</td>\n",
       "      <td>20.00</td>\n",
       "      <td>39.000000</td>\n",
       "      <td>50.00</td>\n",
       "      <td>65.000</td>\n",
       "      <td>84.00000</td>\n",
       "    </tr>\n",
       "  </tbody>\n",
       "</table>\n",
       "</div>"
      ],
      "text/plain": [
       "                     count        mean         std    min         25%     50%  \\\n",
       "0                                                                               \n",
       "purchases           1000.0   49.836000   27.796686   0.00   26.750000   51.00   \n",
       "tenure              1000.0   11.388000    5.037145   0.00    7.000000   11.00   \n",
       "property_valuation  1000.0    7.397000    2.758804   1.00    6.000000    8.00   \n",
       "Rank                1000.0  498.819000  288.810997   1.00  250.000000  500.00   \n",
       "Value               1000.0    0.881714    0.293525   0.34    0.649531    0.86   \n",
       "Age                  983.0   51.206511   17.074268  20.00   39.000000   50.00   \n",
       "\n",
       "                        75%         max  \n",
       "0                                        \n",
       "purchases            72.000    99.00000  \n",
       "tenure               15.000    22.00000  \n",
       "property_valuation    9.000    12.00000  \n",
       "Rank                750.250  1000.00000  \n",
       "Value                 1.075     1.71875  \n",
       "Age                  65.000    84.00000  "
      ]
     },
     "execution_count": 24,
     "metadata": {},
     "output_type": "execute_result"
    }
   ],
   "source": [
    "df.describe().transpose()"
   ]
  },
  {
   "cell_type": "code",
   "execution_count": 25,
   "metadata": {
    "colab": {
     "base_uri": "https://localhost:8080/"
    },
    "executionInfo": {
     "elapsed": 389,
     "status": "ok",
     "timestamp": 1665385410761,
     "user": {
      "displayName": "asraful islam",
      "userId": "12175748284327449638"
     },
     "user_tz": -600
    },
    "id": "P9_4YpaB6XPU",
    "outputId": "0aff6bcb-92cc-4991-d4fb-5046e3f5904a"
   },
   "outputs": [
    {
     "data": {
      "text/plain": [
       "0\n",
       "gender                     0\n",
       "purchases                  0\n",
       "job_title                106\n",
       "job_industry_category    165\n",
       "wealth_segment             0\n",
       "owns_car                   0\n",
       "tenure                     0\n",
       "address                    0\n",
       "postcode                   0\n",
       "state                      0\n",
       "country                    0\n",
       "property_valuation         0\n",
       "Rank                       0\n",
       "Value                      0\n",
       "Age                       17\n",
       "dtype: int64"
      ]
     },
     "execution_count": 25,
     "metadata": {},
     "output_type": "execute_result"
    }
   ],
   "source": [
    "df.isnull().sum()"
   ]
  },
  {
   "cell_type": "code",
   "execution_count": 26,
   "metadata": {
    "colab": {
     "base_uri": "https://localhost:8080/",
     "height": 269
    },
    "executionInfo": {
     "elapsed": 497,
     "status": "ok",
     "timestamp": 1665385422667,
     "user": {
      "displayName": "asraful islam",
      "userId": "12175748284327449638"
     },
     "user_tz": -600
    },
    "id": "StNeHUdBpyR0",
    "outputId": "5e0c841c-da2d-4b12-ce78-6afd0052c328"
   },
   "outputs": [
    {
     "data": {
      "text/html": [
       "<div>\n",
       "<style scoped>\n",
       "    .dataframe tbody tr th:only-of-type {\n",
       "        vertical-align: middle;\n",
       "    }\n",
       "\n",
       "    .dataframe tbody tr th {\n",
       "        vertical-align: top;\n",
       "    }\n",
       "\n",
       "    .dataframe thead th {\n",
       "        text-align: right;\n",
       "    }\n",
       "</style>\n",
       "<table border=\"1\" class=\"dataframe\">\n",
       "  <thead>\n",
       "    <tr style=\"text-align: right;\">\n",
       "      <th></th>\n",
       "      <th>purchases</th>\n",
       "      <th>tenure</th>\n",
       "      <th>property_valuation</th>\n",
       "      <th>Rank</th>\n",
       "      <th>Value</th>\n",
       "      <th>Age</th>\n",
       "    </tr>\n",
       "    <tr>\n",
       "      <th>0</th>\n",
       "      <th></th>\n",
       "      <th></th>\n",
       "      <th></th>\n",
       "      <th></th>\n",
       "      <th></th>\n",
       "      <th></th>\n",
       "    </tr>\n",
       "  </thead>\n",
       "  <tbody>\n",
       "    <tr>\n",
       "      <th>purchases</th>\n",
       "      <td>1.000000</td>\n",
       "      <td>-0.034183</td>\n",
       "      <td>-0.010833</td>\n",
       "      <td>-0.004392</td>\n",
       "      <td>0.004884</td>\n",
       "      <td>-0.021265</td>\n",
       "    </tr>\n",
       "    <tr>\n",
       "      <th>tenure</th>\n",
       "      <td>-0.034183</td>\n",
       "      <td>1.000000</td>\n",
       "      <td>-0.014913</td>\n",
       "      <td>0.005546</td>\n",
       "      <td>-0.012257</td>\n",
       "      <td>0.346219</td>\n",
       "    </tr>\n",
       "    <tr>\n",
       "      <th>property_valuation</th>\n",
       "      <td>-0.010833</td>\n",
       "      <td>-0.014913</td>\n",
       "      <td>1.000000</td>\n",
       "      <td>0.016385</td>\n",
       "      <td>-0.014700</td>\n",
       "      <td>-0.035020</td>\n",
       "    </tr>\n",
       "    <tr>\n",
       "      <th>Rank</th>\n",
       "      <td>-0.004392</td>\n",
       "      <td>0.005546</td>\n",
       "      <td>0.016385</td>\n",
       "      <td>1.000000</td>\n",
       "      <td>-0.984093</td>\n",
       "      <td>0.007850</td>\n",
       "    </tr>\n",
       "    <tr>\n",
       "      <th>Value</th>\n",
       "      <td>0.004884</td>\n",
       "      <td>-0.012257</td>\n",
       "      <td>-0.014700</td>\n",
       "      <td>-0.984093</td>\n",
       "      <td>1.000000</td>\n",
       "      <td>-0.015847</td>\n",
       "    </tr>\n",
       "    <tr>\n",
       "      <th>Age</th>\n",
       "      <td>-0.021265</td>\n",
       "      <td>0.346219</td>\n",
       "      <td>-0.035020</td>\n",
       "      <td>0.007850</td>\n",
       "      <td>-0.015847</td>\n",
       "      <td>1.000000</td>\n",
       "    </tr>\n",
       "  </tbody>\n",
       "</table>\n",
       "</div>"
      ],
      "text/plain": [
       "0                   purchases    tenure  property_valuation      Rank  \\\n",
       "0                                                                       \n",
       "purchases            1.000000 -0.034183           -0.010833 -0.004392   \n",
       "tenure              -0.034183  1.000000           -0.014913  0.005546   \n",
       "property_valuation  -0.010833 -0.014913            1.000000  0.016385   \n",
       "Rank                -0.004392  0.005546            0.016385  1.000000   \n",
       "Value                0.004884 -0.012257           -0.014700 -0.984093   \n",
       "Age                 -0.021265  0.346219           -0.035020  0.007850   \n",
       "\n",
       "0                      Value       Age  \n",
       "0                                       \n",
       "purchases           0.004884 -0.021265  \n",
       "tenure             -0.012257  0.346219  \n",
       "property_valuation -0.014700 -0.035020  \n",
       "Rank               -0.984093  0.007850  \n",
       "Value               1.000000 -0.015847  \n",
       "Age                -0.015847  1.000000  "
      ]
     },
     "execution_count": 26,
     "metadata": {},
     "output_type": "execute_result"
    }
   ],
   "source": [
    "df.corr()"
   ]
  },
  {
   "cell_type": "markdown",
   "metadata": {
    "id": "4xkfOeiUhoOm"
   },
   "source": [
    "### Value vs Gender"
   ]
  },
  {
   "cell_type": "code",
   "execution_count": null,
   "metadata": {
    "colab": {
     "base_uri": "https://localhost:8080/"
    },
    "executionInfo": {
     "elapsed": 308,
     "status": "ok",
     "timestamp": 1665385475816,
     "user": {
      "displayName": "asraful islam",
      "userId": "12175748284327449638"
     },
     "user_tz": -600
    },
    "id": "OF8XgBoI9wlm",
    "outputId": "0c728ce9-7403-42b8-898c-15f88ba8efd1"
   },
   "outputs": [
    {
     "data": {
      "text/plain": [
       "Female    513\n",
       "Male      470\n",
       "U          17\n",
       "Name: gender, dtype: int64"
      ]
     },
     "execution_count": 55,
     "metadata": {},
     "output_type": "execute_result"
    }
   ],
   "source": [
    "df['gender'].value_counts()"
   ]
  },
  {
   "cell_type": "code",
   "execution_count": null,
   "metadata": {
    "colab": {
     "base_uri": "https://localhost:8080/",
     "height": 513
    },
    "executionInfo": {
     "elapsed": 865,
     "status": "ok",
     "timestamp": 1665385494085,
     "user": {
      "displayName": "asraful islam",
      "userId": "12175748284327449638"
     },
     "user_tz": -600
    },
    "id": "Kul8MgN7q5Vn",
    "outputId": "2bf0fd55-83e8-4bc8-f392-69db9e8b4207"
   },
   "outputs": [
    {
     "data": {
      "text/plain": [
       "([<matplotlib.patches.Wedge at 0x7f45b9c4ca90>,\n",
       "  <matplotlib.patches.Wedge at 0x7f45b9e963d0>,\n",
       "  <matplotlib.patches.Wedge at 0x7f45b9e278d0>],\n",
       " [Text(-0.044912326691325444, 1.0990827461620767, 'Female'),\n",
       "  Text(-0.013822568901300852, -1.0999131495663506, 'Male'),\n",
       "  Text(1.0984316031843404, -0.058719784790815514, 'U')],\n",
       " [Text(-0.024497632740722967, 0.599499679724769, '51.3%'),\n",
       "  Text(-0.007539583037073191, -0.5999526270361911, '47.0%'),\n",
       "  Text(0.599144510827822, -0.032028973522263006, '1.7%')])"
      ]
     },
     "execution_count": 56,
     "metadata": {},
     "output_type": "execute_result"
    },
    {
     "data": {
      "image/png": "[encoded data removed]",
      "text/plain": [
       "<Figure size 720x432 with 1 Axes>"
      ]
     },
     "metadata": {},
     "output_type": "display_data"
    }
   ],
   "source": [
    "plt.figure(figsize=(10,6))\n",
    "plt.pie(df.gender.value_counts(), labels=df.gender.value_counts().index, autopct='%1.1f%%')"
   ]
  },
  {
   "cell_type": "code",
   "execution_count": null,
   "metadata": {
    "colab": {
     "base_uri": "https://localhost:8080/",
     "height": 440
    },
    "executionInfo": {
     "elapsed": 2729,
     "status": "ok",
     "timestamp": 1665385789213,
     "user": {
      "displayName": "asraful islam",
      "userId": "12175748284327449638"
     },
     "user_tz": -600
    },
    "id": "fTtx3OMTsqVl",
    "outputId": "f1f47781-5ef1-4551-ec71-46b8ae2c0e8a"
   },
   "outputs": [
    {
     "data": {
      "text/plain": [
       "(array([ 0,  1,  2,  3,  4,  5,  6,  7,  8,  9, 10, 11, 12, 13, 14, 15, 16,\n",
       "        17, 18, 19, 20, 21, 22, 23, 24, 25, 26, 27, 28, 29, 30, 31, 32, 33,\n",
       "        34, 35, 36, 37, 38, 39, 40, 41, 42, 43, 44, 45, 46, 47, 48, 49, 50,\n",
       "        51, 52, 53, 54, 55, 56, 57, 58, 59, 60, 61, 62, 63, 64]),\n",
       " <a list of 65 Text major ticklabel objects>)"
      ]
     },
     "execution_count": 60,
     "metadata": {},
     "output_type": "execute_result"
    },
    {
     "data": {
      "image/png": "[encoded data removed]",
      "text/plain": [
       "<Figure size 1440x432 with 1 Axes>"
      ]
     },
     "metadata": {
      "needs_background": "light"
     },
     "output_type": "display_data"
    }
   ],
   "source": [
    "import seaborn as sb\n",
    "plt.figure(figsize=(20,6))\n",
    "sb.barplot(x=df.Value.groupby(df.Age).sum().index, y=df.Value.groupby(df.Age).sum())\n",
    "plt.xticks(rotation=70)"
   ]
  },
  {
   "cell_type": "code",
   "execution_count": null,
   "metadata": {
    "id": "oJeASciBuWl4"
   },
   "outputs": [],
   "source": [
    "df_age_value = df[['Value']].groupby(df['Age']).sum()"
   ]
  },
  {
   "cell_type": "code",
   "execution_count": null,
   "metadata": {
    "colab": {
     "base_uri": "https://localhost:8080/",
     "height": 405
    },
    "executionInfo": {
     "elapsed": 472,
     "status": "ok",
     "timestamp": 1665385708263,
     "user": {
      "displayName": "asraful islam",
      "userId": "12175748284327449638"
     },
     "user_tz": -600
    },
    "id": "Ne5NjCE4uIpn",
    "outputId": "b9fadbca-9585-4e44-a140-fcb64be03719"
   },
   "outputs": [
    {
     "data": {
      "text/plain": [
       "<matplotlib.axes._subplots.AxesSubplot at 0x7f45ad51e790>"
      ]
     },
     "execution_count": 59,
     "metadata": {},
     "output_type": "execute_result"
    },
    {
     "data": {
      "image/png": "[encoded data removed]",
      "text/plain": [
       "<Figure size 1008x432 with 1 Axes>"
      ]
     },
     "metadata": {
      "needs_background": "light"
     },
     "output_type": "display_data"
    }
   ],
   "source": [
    "plt.figure(figsize=(14,6))\n",
    "sb.scatterplot(data=df, x='Age', y='Value')"
   ]
  },
  {
   "cell_type": "markdown",
   "metadata": {
    "id": "zeOxiXibqYk7"
   },
   "source": [
    "### Value by Purchases"
   ]
  },
  {
   "cell_type": "code",
   "execution_count": null,
   "metadata": {
    "id": "ptO0o6OdENfR"
   },
   "outputs": [],
   "source": [
    "df_purchase_value = df[['Value']].groupby(df['purchases']).sum()"
   ]
  },
  {
   "cell_type": "code",
   "execution_count": null,
   "metadata": {
    "colab": {
     "base_uri": "https://localhost:8080/",
     "height": 405
    },
    "executionInfo": {
     "elapsed": 538,
     "status": "ok",
     "timestamp": 1665133806591,
     "user": {
      "displayName": "asraful islam",
      "userId": "12175748284327449638"
     },
     "user_tz": -600
    },
    "id": "I62k6M-EqwwR",
    "outputId": "e1693882-bb2f-4d1b-e146-f8e8f1ab6bb7"
   },
   "outputs": [
    {
     "data": {
      "text/plain": [
       "<matplotlib.axes._subplots.AxesSubplot at 0x7f13b3a74c50>"
      ]
     },
     "execution_count": 45,
     "metadata": {},
     "output_type": "execute_result"
    },
    {
     "data": {
      "image/png": "[encoded data removed]",
      "text/plain": [
       "<Figure size 1008x432 with 1 Axes>"
      ]
     },
     "metadata": {
      "needs_background": "light"
     },
     "output_type": "display_data"
    }
   ],
   "source": [
    "plt.figure(figsize=(14,6))\n",
    "sb.scatterplot(data=df, x='purchases', y='Value')"
   ]
  },
  {
   "cell_type": "markdown",
   "metadata": {
    "id": "-yYpdmHssapC"
   },
   "source": [
    "### Value by Rank"
   ]
  },
  {
   "cell_type": "code",
   "execution_count": null,
   "metadata": {
    "colab": {
     "base_uri": "https://localhost:8080/",
     "height": 405
    },
    "executionInfo": {
     "elapsed": 5152,
     "status": "ok",
     "timestamp": 1665133868122,
     "user": {
      "displayName": "asraful islam",
      "userId": "12175748284327449638"
     },
     "user_tz": -600
    },
    "id": "AS0vtg2AsnJV",
    "outputId": "7474aca4-db77-4bfc-91bd-0bd6f78d4798"
   },
   "outputs": [
    {
     "data": {
      "text/plain": [
       "<matplotlib.axes._subplots.AxesSubplot at 0x7f13b4c20d90>"
      ]
     },
     "execution_count": 46,
     "metadata": {},
     "output_type": "execute_result"
    },
    {
     "data": {
      "image/png": "[encoded data removed]",
      "text/plain": [
       "<Figure size 1008x432 with 1 Axes>"
      ]
     },
     "metadata": {
      "needs_background": "light"
     },
     "output_type": "display_data"
    }
   ],
   "source": [
    "plt.figure(figsize=(14,6))\n",
    "sb.lineplot(data=df, x='Rank', y='Value')"
   ]
  },
  {
   "cell_type": "markdown",
   "metadata": {
    "id": "290hI4PgzLCD"
   },
   "source": [
    "### Value by Job_title"
   ]
  },
  {
   "cell_type": "code",
   "execution_count": null,
   "metadata": {
    "colab": {
     "base_uri": "https://localhost:8080/"
    },
    "executionInfo": {
     "elapsed": 415,
     "status": "ok",
     "timestamp": 1665133915577,
     "user": {
      "displayName": "asraful islam",
      "userId": "12175748284327449638"
     },
     "user_tz": -600
    },
    "id": "YOQC_ZbStwlR",
    "outputId": "23319fc8-f890-4ad5-c183-82b0ec83c229"
   },
   "outputs": [
    {
     "data": {
      "text/plain": [
       "Index(['gender', 'purchases', 'DOB', 'job_title', 'job_industry_category',\n",
       "       'wealth_segment', 'owns_car', 'tenure', 'address', 'postcode', 'state',\n",
       "       'country', 'property_valuation', 'Rank', 'Value'],\n",
       "      dtype='object', name=0)"
      ]
     },
     "execution_count": 47,
     "metadata": {},
     "output_type": "execute_result"
    }
   ],
   "source": [
    "df.columns"
   ]
  },
  {
   "cell_type": "code",
   "execution_count": null,
   "metadata": {
    "id": "h7Q2rkgYt6Gu"
   },
   "outputs": [],
   "source": [
    "df_jobtitle_value = df[['Value']].groupby(df['job_title']).sum()\n",
    "jobtitle_value = df_jobtitle_value.sort_values('Value', ascending=False).head(15)"
   ]
  },
  {
   "cell_type": "code",
   "execution_count": null,
   "metadata": {
    "colab": {
     "base_uri": "https://localhost:8080/",
     "height": 573
    },
    "executionInfo": {
     "elapsed": 1051,
     "status": "ok",
     "timestamp": 1665135216183,
     "user": {
      "displayName": "asraful islam",
      "userId": "12175748284327449638"
     },
     "user_tz": -600
    },
    "id": "X97KdqMcvtYD",
    "outputId": "bf784c8b-e04b-4aa8-a667-54298de43931"
   },
   "outputs": [
    {
     "data": {
      "text/plain": [
       "(array([ 0,  1,  2,  3,  4,  5,  6,  7,  8,  9, 10, 11, 12, 13, 14]),\n",
       " <a list of 15 Text major ticklabel objects>)"
      ]
     },
     "execution_count": 70,
     "metadata": {},
     "output_type": "execute_result"
    },
    {
     "data": {
      "image/png": "[encoded data removed]",
      "text/plain": [
       "<Figure size 1440x432 with 1 Axes>"
      ]
     },
     "metadata": {
      "needs_background": "light"
     },
     "output_type": "display_data"
    }
   ],
   "source": [
    "plt.figure(figsize=(20,6))\n",
    "sb.barplot(data=jobtitle_value, x=jobtitle_value.index, y=jobtitle_value.Value)\n",
    "plt.xticks(rotation=70)"
   ]
  },
  {
   "cell_type": "markdown",
   "metadata": {
    "id": "cdo1FZDN24FL"
   },
   "source": [
    "### Value by job_industry_category"
   ]
  },
  {
   "cell_type": "code",
   "execution_count": null,
   "metadata": {
    "colab": {
     "base_uri": "https://localhost:8080/",
     "height": 363
    },
    "executionInfo": {
     "elapsed": 642,
     "status": "ok",
     "timestamp": 1665136934883,
     "user": {
      "displayName": "asraful islam",
      "userId": "12175748284327449638"
     },
     "user_tz": -600
    },
    "id": "KqdFB7Si3xKQ",
    "outputId": "90fea678-bede-4bdb-b1a6-d9f8ae7dcae7"
   },
   "outputs": [
    {
     "data": {
      "text/html": [
       "\n",
       "  <div id=\"df-a17ef336-7bd8-4c0f-b9c4-4c2c730df083\">\n",
       "    <div class=\"colab-df-container\">\n",
       "      <div>\n",
       "<style scoped>\n",
       "    .dataframe tbody tr th:only-of-type {\n",
       "        vertical-align: middle;\n",
       "    }\n",
       "\n",
       "    .dataframe tbody tr th {\n",
       "        vertical-align: top;\n",
       "    }\n",
       "\n",
       "    .dataframe thead th {\n",
       "        text-align: right;\n",
       "    }\n",
       "</style>\n",
       "<table border=\"1\" class=\"dataframe\">\n",
       "  <thead>\n",
       "    <tr style=\"text-align: right;\">\n",
       "      <th></th>\n",
       "      <th>Value</th>\n",
       "    </tr>\n",
       "    <tr>\n",
       "      <th>job_industry_category</th>\n",
       "      <th></th>\n",
       "    </tr>\n",
       "  </thead>\n",
       "  <tbody>\n",
       "    <tr>\n",
       "      <th>Financial Services</th>\n",
       "      <td>178.080031</td>\n",
       "    </tr>\n",
       "    <tr>\n",
       "      <th>Manufacturing</th>\n",
       "      <td>177.057344</td>\n",
       "    </tr>\n",
       "    <tr>\n",
       "      <th>Health</th>\n",
       "      <td>128.841156</td>\n",
       "    </tr>\n",
       "    <tr>\n",
       "      <th>Retail</th>\n",
       "      <td>71.324469</td>\n",
       "    </tr>\n",
       "    <tr>\n",
       "      <th>Property</th>\n",
       "      <td>58.273656</td>\n",
       "    </tr>\n",
       "    <tr>\n",
       "      <th>IT</th>\n",
       "      <td>43.035219</td>\n",
       "    </tr>\n",
       "    <tr>\n",
       "      <th>Entertainment</th>\n",
       "      <td>31.867156</td>\n",
       "    </tr>\n",
       "    <tr>\n",
       "      <th>Argiculture</th>\n",
       "      <td>23.777406</td>\n",
       "    </tr>\n",
       "    <tr>\n",
       "      <th>Telecommunications</th>\n",
       "      <td>21.058062</td>\n",
       "    </tr>\n",
       "  </tbody>\n",
       "</table>\n",
       "</div>\n",
       "      <button class=\"colab-df-convert\" onclick=\"convertToInteractive('df-a17ef336-7bd8-4c0f-b9c4-4c2c730df083')\"\n",
       "              title=\"Convert this dataframe to an interactive table.\"\n",
       "              style=\"display:none;\">\n",
       "        \n",
       "  <svg xmlns=\"http://www.w3.org/2000/svg\" height=\"24px\"viewBox=\"0 0 24 24\"\n",
       "       width=\"24px\">\n",
       "    <path d=\"M0 0h24v24H0V0z\" fill=\"none\"/>\n",
       "    <path d=\"M18.56 5.44l.94 2.06.94-2.06 2.06-.94-2.06-.94-.94-2.06-.94 2.06-2.06.94zm-11 1L8.5 8.5l.94-2.06 2.06-.94-2.06-.94L8.5 2.5l-.94 2.06-2.06.94zm10 10l.94 2.06.94-2.06 2.06-.94-2.06-.94-.94-2.06-.94 2.06-2.06.94z\"/><path d=\"M17.41 7.96l-1.37-1.37c-.4-.4-.92-.59-1.43-.59-.52 0-1.04.2-1.43.59L10.3 9.45l-7.72 7.72c-.78.78-.78 2.05 0 2.83L4 21.41c.39.39.9.59 1.41.59.51 0 1.02-.2 1.41-.59l7.78-7.78 2.81-2.81c.8-.78.8-2.07 0-2.86zM5.41 20L4 18.59l7.72-7.72 1.47 1.35L5.41 20z\"/>\n",
       "  </svg>\n",
       "      </button>\n",
       "      \n",
       "  <style>\n",
       "    .colab-df-container {\n",
       "      display:flex;\n",
       "      flex-wrap:wrap;\n",
       "      gap: 12px;\n",
       "    }\n",
       "\n",
       "    .colab-df-convert {\n",
       "      background-color: #E8F0FE;\n",
       "      border: none;\n",
       "      border-radius: 50%;\n",
       "      cursor: pointer;\n",
       "      display: none;\n",
       "      fill: #1967D2;\n",
       "      height: 32px;\n",
       "      padding: 0 0 0 0;\n",
       "      width: 32px;\n",
       "    }\n",
       "\n",
       "    .colab-df-convert:hover {\n",
       "      background-color: #E2EBFA;\n",
       "      box-shadow: 0px 1px 2px rgba(60, 64, 67, 0.3), 0px 1px 3px 1px rgba(60, 64, 67, 0.15);\n",
       "      fill: #174EA6;\n",
       "    }\n",
       "\n",
       "    [theme=dark] .colab-df-convert {\n",
       "      background-color: #3B4455;\n",
       "      fill: #D2E3FC;\n",
       "    }\n",
       "\n",
       "    [theme=dark] .colab-df-convert:hover {\n",
       "      background-color: #434B5C;\n",
       "      box-shadow: 0px 1px 3px 1px rgba(0, 0, 0, 0.15);\n",
       "      filter: drop-shadow(0px 1px 2px rgba(0, 0, 0, 0.3));\n",
       "      fill: #FFFFFF;\n",
       "    }\n",
       "  </style>\n",
       "\n",
       "      <script>\n",
       "        const buttonEl =\n",
       "          document.querySelector('#df-a17ef336-7bd8-4c0f-b9c4-4c2c730df083 button.colab-df-convert');\n",
       "        buttonEl.style.display =\n",
       "          google.colab.kernel.accessAllowed ? 'block' : 'none';\n",
       "\n",
       "        async function convertToInteractive(key) {\n",
       "          const element = document.querySelector('#df-a17ef336-7bd8-4c0f-b9c4-4c2c730df083');\n",
       "          const dataTable =\n",
       "            await google.colab.kernel.invokeFunction('convertToInteractive',\n",
       "                                                     [key], {});\n",
       "          if (!dataTable) return;\n",
       "\n",
       "          const docLinkHtml = 'Like what you see? Visit the ' +\n",
       "            '<a target=\"_blank\" href=https://colab.research.google.com/notebooks/data_table.ipynb>data table notebook</a>'\n",
       "            + ' to learn more about interactive tables.';\n",
       "          element.innerHTML = '';\n",
       "          dataTable['output_type'] = 'display_data';\n",
       "          await google.colab.output.renderOutput(dataTable, element);\n",
       "          const docLink = document.createElement('div');\n",
       "          docLink.innerHTML = docLinkHtml;\n",
       "          element.appendChild(docLink);\n",
       "        }\n",
       "      </script>\n",
       "    </div>\n",
       "  </div>\n",
       "  "
      ],
      "text/plain": [
       "0                           Value\n",
       "job_industry_category            \n",
       "Financial Services     178.080031\n",
       "Manufacturing          177.057344\n",
       "Health                 128.841156\n",
       "Retail                  71.324469\n",
       "Property                58.273656\n",
       "IT                      43.035219\n",
       "Entertainment           31.867156\n",
       "Argiculture             23.777406\n",
       "Telecommunications      21.058062"
      ]
     },
     "execution_count": 96,
     "metadata": {},
     "output_type": "execute_result"
    }
   ],
   "source": [
    "df_cat = df[['Value','job_industry_category']].groupby(df['job_industry_category']).sum()\n",
    "df_cat_val = df_cat.sort_values('Value', ascending=False)\n",
    "df_cat_val"
   ]
  },
  {
   "cell_type": "code",
   "execution_count": null,
   "metadata": {
    "colab": {
     "base_uri": "https://localhost:8080/",
     "height": 513
    },
    "executionInfo": {
     "elapsed": 571,
     "status": "ok",
     "timestamp": 1665137003963,
     "user": {
      "displayName": "asraful islam",
      "userId": "12175748284327449638"
     },
     "user_tz": -600
    },
    "id": "GoY4FeyuwGpw",
    "outputId": "72853cbb-cb3e-4a48-a862-40ce133f3745"
   },
   "outputs": [
    {
     "data": {
      "text/plain": [
       "(array([0, 1, 2, 3, 4, 5, 6, 7, 8]),\n",
       " <a list of 9 Text major ticklabel objects>)"
      ]
     },
     "execution_count": 99,
     "metadata": {},
     "output_type": "execute_result"
    },
    {
     "data": {
      "image/png": "[encoded data removed]",
      "text/plain": [
       "<Figure size 1440x432 with 1 Axes>"
      ]
     },
     "metadata": {
      "needs_background": "light"
     },
     "output_type": "display_data"
    }
   ],
   "source": [
    "plt.figure(figsize=(20,6))\n",
    "ax = sb.barplot(x=df_cat_val.index, y=df_cat_val.Value)\n",
    "plt.xticks(rotation=70)"
   ]
  },
  {
   "cell_type": "code",
   "execution_count": null,
   "metadata": {
    "id": "vhaspYLx2PlH"
   },
   "outputs": [],
   "source": []
  }
 ],
 "metadata": {
  "colab": {
   "authorship_tag": "ABX9TyP8w+llTumfHMr4l6JwoYLZ",
   "collapsed_sections": [],
   "provenance": []
  },
  "kernelspec": {
   "display_name": "Python 3 (ipykernel)",
   "language": "python",
   "name": "python3"
  },
  "language_info": {
   "codemirror_mode": {
    "name": "ipython",
    "version": 3
   },
   "file_extension": ".py",
   "mimetype": "text/x-python",
   "name": "python",
   "nbconvert_exporter": "python",
   "pygments_lexer": "ipython3",
   "version": "3.9.12"
  }
 },
 "nbformat": 4,
 "nbformat_minor": 1
}
